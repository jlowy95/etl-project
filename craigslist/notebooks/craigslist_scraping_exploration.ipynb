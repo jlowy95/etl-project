{
 "cells": [
  {
   "cell_type": "code",
   "execution_count": 2,
   "metadata": {},
   "outputs": [],
   "source": [
    "from splinter import Browser\n",
    "from splinter.exceptions import ElementDoesNotExist\n",
    "from bs4 import BeautifulSoup"
   ]
  },
  {
   "cell_type": "code",
   "execution_count": 3,
   "metadata": {},
   "outputs": [
    {
     "name": "stdout",
     "output_type": "stream",
     "text": [
      "/usr/local/bin/chromedriver\r\n"
     ]
    }
   ],
   "source": [
    "# https://splinter.readthedocs.io/en/latest/drivers/chrome.html\n",
    "!which chromedriver"
   ]
  },
  {
   "cell_type": "code",
   "execution_count": 4,
   "metadata": {},
   "outputs": [],
   "source": [
    "executable_path = {'executable_path': '/usr/local/bin/chromedriver'}\n",
    "browser = Browser('chrome', **executable_path, headless=True)"
   ]
  },
  {
   "cell_type": "code",
   "execution_count": 5,
   "metadata": {},
   "outputs": [],
   "source": [
    "# Example URL: https://sacramento.craigslist.org/search/sss?query=backcountry%20skis&sort=rel\n",
    "location = \"sacramento\"\n",
    "search_term = \"skis\"\n",
    "bundle_duplicates = 1\n",
    "\n",
    "url = f\"http://{location}.craigslist.org/search/sss?query={search_term}&sort=rel\"\n",
    "browser.visit(url)"
   ]
  },
  {
   "cell_type": "markdown",
   "metadata": {},
   "source": [
    "# Get a list of links for the first page"
   ]
  },
  {
   "cell_type": "code",
   "execution_count": 6,
   "metadata": {},
   "outputs": [],
   "source": [
    "html = browser.html\n",
    "soup = BeautifulSoup(html, 'html.parser')\n",
    "results = soup.find_all('li', class_=\"result-row\")\n",
    "\n",
    "item_list = []\n",
    "\n",
    "for result in results:\n",
    "    \n",
    "    # Grab the link, title, and price\n",
    "    link = result.a['href']\n",
    "    title = result.find('a', class_=\"result-title\").text\n",
    "    price = result.find('span', class_=\"result-price\").text\n",
    "    datetime = result.find('time', class_=\"result-date\")['datetime']\n",
    "    \n",
    "    # Create a dictionary for the item\n",
    "    item_dict = {\n",
    "        link: {\n",
    "            \"title\": title,\n",
    "            \"price\": price,\n",
    "            \"datetime\": datetime\n",
    "        }\n",
    "    }\n",
    "    \n",
    "    item_list.append(item_dict)"
   ]
  },
  {
   "cell_type": "code",
   "execution_count": 7,
   "metadata": {},
   "outputs": [
    {
     "data": {
      "text/plain": [
       "'2020-03-28 12:34'"
      ]
     },
     "execution_count": 7,
     "metadata": {},
     "output_type": "execute_result"
    }
   ],
   "source": [
    "results[0].find('time', class_=\"result-date\")['datetime']"
   ]
  },
  {
   "cell_type": "code",
   "execution_count": 8,
   "metadata": {},
   "outputs": [
    {
     "data": {
      "text/plain": [
       "[{'https://sacramento.craigslist.org/spo/d/arbuckle-competition-water-skis/7100265453.html': {'title': 'Competition water skis',\n",
       "   'price': '$0',\n",
       "   'datetime': '2020-03-28 12:34'}},\n",
       " {'https://sacramento.craigslist.org/spo/d/davis-k2-amp-strike-skis-136-cm/7083893861.html': {'title': 'K2 Amp Strike Skis 136 CM',\n",
       "   'price': '$40',\n",
       "   'datetime': '2020-03-28 12:31'}},\n",
       " {'https://sacramento.craigslist.org/spo/d/sacramento-elan-race-gsx-world-cup/7089858987.html': {'title': 'Elan Race GSX World Cup Slalom 182cm Skis w/ Rossignol 120 Axitec2  Bi',\n",
       "   'price': '$180',\n",
       "   'datetime': '2020-03-28 10:34'}},\n",
       " {'https://sacramento.craigslist.org/spo/d/colfax-kids-skis-and-ski-boots/7097834627.html': {'title': 'Kids skis and ski boots',\n",
       "   'price': '$125',\n",
       "   'datetime': '2020-03-28 08:15'}},\n",
       " {'https://sacramento.craigslist.org/spo/d/sacramento-volkl-skis-salomon-bindings/7096770543.html': {'title': 'Volkl Skis w/ Salomon Bindings',\n",
       "   'price': '$200',\n",
       "   'datetime': '2020-03-28 07:38'}}]"
      ]
     },
     "execution_count": 8,
     "metadata": {},
     "output_type": "execute_result"
    }
   ],
   "source": [
    "item_list[:5]"
   ]
  },
  {
   "cell_type": "code",
   "execution_count": 9,
   "metadata": {},
   "outputs": [
    {
     "data": {
      "text/plain": [
       "120"
      ]
     },
     "execution_count": 9,
     "metadata": {},
     "output_type": "execute_result"
    }
   ],
   "source": [
    "len(item_list)"
   ]
  },
  {
   "cell_type": "markdown",
   "metadata": {},
   "source": [
    "# Get links for all results by clicking through all pages"
   ]
  },
  {
   "cell_type": "code",
   "execution_count": 10,
   "metadata": {},
   "outputs": [
    {
     "name": "stderr",
     "output_type": "stream",
     "text": [
      "/opt/anaconda3/lib/python3.7/site-packages/splinter/driver/webdriver/__init__.py:528: FutureWarning: browser.find_link_by_partial_text is deprecated. Use browser.links.find_by_partial_text instead.\n",
      "  FutureWarning,\n"
     ]
    },
    {
     "name": "stdout",
     "output_type": "stream",
     "text": [
      "All results scraped\n"
     ]
    }
   ],
   "source": [
    "item_list = []\n",
    "\n",
    "while True:\n",
    "    html = browser.html\n",
    "    soup = BeautifulSoup(html, 'html.parser')\n",
    "    results = soup.find_all('li', class_=\"result-row\")\n",
    "    \n",
    "    for result in results:\n",
    "    \n",
    "        # Grab the link, title, and price\n",
    "        link = result.a['href']\n",
    "        title = result.find('a', class_=\"result-title\").text\n",
    "        price = result.find('span', class_=\"result-price\").text\n",
    "        datetime = result.find('time', class_=\"result-date\")['datetime']\n",
    "\n",
    "        # Create a dictionary for the item\n",
    "        item_dict = {\n",
    "            link: {\n",
    "                \"title\": title,\n",
    "                \"price\": price,\n",
    "                \"datetime\": datetime\n",
    "            }\n",
    "        }\n",
    "\n",
    "        item_list.append(item_dict)\n",
    "    \n",
    "    # Try the next page\n",
    "    try:\n",
    "        browser.click_link_by_partial_text('next')\n",
    "    except:\n",
    "        print(\"All results scraped\")\n",
    "        break"
   ]
  },
  {
   "cell_type": "code",
   "execution_count": 12,
   "metadata": {},
   "outputs": [
    {
     "data": {
      "text/plain": [
       "417"
      ]
     },
     "execution_count": 12,
     "metadata": {},
     "output_type": "execute_result"
    }
   ],
   "source": [
    "len(item_list)"
   ]
  },
  {
   "cell_type": "markdown",
   "metadata": {},
   "source": [
    "# Scrape data for one product link"
   ]
  },
  {
   "cell_type": "code",
   "execution_count": 22,
   "metadata": {},
   "outputs": [],
   "source": [
    "link = list(item_list[0].keys())[0]\n",
    "\n",
    "browser.visit(link)"
   ]
  },
  {
   "cell_type": "code",
   "execution_count": 23,
   "metadata": {},
   "outputs": [],
   "source": [
    "html = browser.html\n",
    "soup = BeautifulSoup(html, 'html.parser')"
   ]
  },
  {
   "cell_type": "code",
   "execution_count": 25,
   "metadata": {},
   "outputs": [
    {
     "data": {
      "text/plain": [
       "[]"
      ]
     },
     "execution_count": 25,
     "metadata": {},
     "output_type": "execute_result"
    }
   ],
   "source": [
    "soup.find_all('section', id_=\"postingbody\")"
   ]
  },
  {
   "cell_type": "code",
   "execution_count": null,
   "metadata": {},
   "outputs": [],
   "source": []
  }
 ],
 "metadata": {
  "kernelspec": {
   "display_name": "Python 3",
   "language": "python",
   "name": "python3"
  },
  "language_info": {
   "codemirror_mode": {
    "name": "ipython",
    "version": 3
   },
   "file_extension": ".py",
   "mimetype": "text/x-python",
   "name": "python",
   "nbconvert_exporter": "python",
   "pygments_lexer": "ipython3",
   "version": "3.7.4"
  }
 },
 "nbformat": 4,
 "nbformat_minor": 2
}
