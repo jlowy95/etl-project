{
 "cells": [
  {
   "cell_type": "code",
   "execution_count": 40,
   "metadata": {},
   "outputs": [],
   "source": [
    "from splinter import Browser\n",
    "from splinter.exceptions import ElementDoesNotExist\n",
    "from bs4 import BeautifulSoup as bs\n",
    "import datetime"
   ]
  },
  {
   "cell_type": "code",
   "execution_count": 35,
   "metadata": {},
   "outputs": [],
   "source": [
    "# Initialize browser with chromedriver\n",
    "executable_path = {'executable_path': '/usr/local/bin/chromedriver'}\n",
    "browser = Browser('chrome', **executable_path, headless=False)"
   ]
  },
  {
   "cell_type": "code",
   "execution_count": 36,
   "metadata": {},
   "outputs": [],
   "source": [
    "# Ebay Base URL\n",
    "url = \"https://www.ebay.com\"\n",
    "browser.visit(url)"
   ]
  },
  {
   "cell_type": "code",
   "execution_count": 25,
   "metadata": {},
   "outputs": [],
   "source": [
    "# Define Search term\n",
    "search_term = \"backcountry skis\""
   ]
  },
  {
   "cell_type": "code",
   "execution_count": 26,
   "metadata": {},
   "outputs": [],
   "source": [
    "# Find Search bar iframe and enter search term\n",
    "browser.find_by_css('input.gh-tb').fill(search_term)\n",
    "browser.find_by_css('input.gh-spr').click()"
   ]
  },
  {
   "cell_type": "code",
   "execution_count": 31,
   "metadata": {},
   "outputs": [],
   "source": [
    "# Initialize Listings dictionary (JSON)\n",
    "listings = []"
   ]
  },
  {
   "cell_type": "code",
   "execution_count": 28,
   "metadata": {},
   "outputs": [],
   "source": [
    "# Define html and soup\n",
    "html = browser.html\n",
    "soup = bs(html,'lxml')"
   ]
  },
  {
   "cell_type": "code",
   "execution_count": 29,
   "metadata": {},
   "outputs": [
    {
     "data": {
      "text/plain": [
       "'7'"
      ]
     },
     "execution_count": 29,
     "metadata": {},
     "output_type": "execute_result"
    }
   ],
   "source": [
    "# Grab initial page count\n",
    "pages = soup.find_all('li',{'class':'x-pagination__li'})\n",
    "if len(pages) == 0:\n",
    "    pages = soup.find_all('a',{'class':'pagination__item'})\n",
    "    page_count = pages[-1].text\n",
    "else:\n",
    "    page_count = pages[-1].find('a').text\n",
    "page_count"
   ]
  },
  {
   "cell_type": "code",
   "execution_count": 30,
   "metadata": {},
   "outputs": [
    {
     "name": "stdout",
     "output_type": "stream",
     "text": [
      "350\n"
     ]
    }
   ],
   "source": [
    "# Create list of URLs\n",
    "url_list = []\n",
    "\n",
    "for i in range(int(page_count)):\n",
    "    ul = soup.find('ul',{'class':'srp-results'})\n",
    "    list_items = ul.find_all('li',{'class':'s-item'})\n",
    "    for item in list_items:\n",
    "        if item.find('div',{'class':'s-item__title--tagblock'}):\n",
    "            continue\n",
    "        else:\n",
    "            url_list.append(item.find('a',{'class':'s-item__link'})['href'])\n",
    "    # Click the next page button\n",
    "    #browser.find_by_css('a.pagination__next').click()\n",
    "    try:\n",
    "        browser.find_by_css('a.pagination__next').click()\n",
    "    except ElementDoesNotExist:\n",
    "        browser.find_by_css('a.x-pagination__control')[1].click()"
   ]
  },
  {
   "cell_type": "code",
   "execution_count": 136,
   "metadata": {},
   "outputs": [
    {
     "name": "stdout",
     "output_type": "stream",
     "text": [
      "550\n"
     ]
    }
   ],
   "source": [
    "print(len(url_list))"
   ]
  },
  {
   "cell_type": "code",
   "execution_count": 137,
   "metadata": {},
   "outputs": [
    {
     "name": "stdout",
     "output_type": "stream",
     "text": [
      "507\n"
     ]
    }
   ],
   "source": [
    "print(result_count)"
   ]
  },
  {
   "cell_type": "code",
   "execution_count": 39,
   "metadata": {},
   "outputs": [
    {
     "name": "stdout",
     "output_type": "stream",
     "text": [
      "{'listing_url': 'https://www.ebay.com/itm/Black-Diamond-Aspect-Powder-Backcountry-Touring-AT-Skis-186cm-132-90-119/274318099878?hash=item3fdea205a6:g:aecAAOSwWapee80P', 'listing_title': 'Details about  \\xa0', 'listing_price': 'US $159.00', 'condition': 'Used', 'location': 'Huntington Beach, California, United States', 'source': 'ebay'}\n",
      "{'listing_url': 'https://www.ebay.com/itm/Atomic-Drifter-backcountry-skis-164cm-95mm/303518378688?hash=item46ab1aeac0:g:2BoAAOSwngBecuXL', 'listing_title': 'Details about  \\xa0', 'listing_price': 'US $180.00', 'condition': 'Used', 'location': 'Castro Valley, California, United States', 'source': 'ebay'}\n",
      "{'listing_url': 'https://www.ebay.com/itm/K2-Gotback-Backcountry-Womens-Skis-160cm/283828347569?hash=item42157ce2b1:g:PF8AAOSwFIpefVUV', 'listing_title': 'Details about  \\xa0', 'listing_price': 'US $200.00', 'condition': 'Used', 'location': 'Sandy, Utah, United States', 'source': 'ebay'}\n",
      "{'listing_url': 'https://www.ebay.com/itm/Atomic-Backland-95-Skins-Ski-Touring-Backcountry/153789908462?hash=item23ce97c5ee:m:meLnnqes74EvXWduDWtSvHQ', 'listing_title': 'Details about  \\xa0', 'listing_price': 'US $79.99', 'condition': 'New', 'location': 'Boulder, Colorado, United States', 'source': 'ebay'}\n",
      "{'listing_url': 'https://www.ebay.com/itm/2019-Rossignol-BC-70-Positrack-Backcountry-XC-Touring-Skis-w-BC-Magnum-Bindings/202938034618?hash=item2f400ca9ba:m:mL67TAgQhrV1VARq2jIyY0A', 'listing_title': 'Details about  \\xa0', 'listing_price': 'US $224.96', 'condition': 'New', 'location': 'Stowe, Vermont, United States', 'source': 'ebay'}\n",
      "{'listing_url': 'https://www.ebay.com/itm/BCA-Tracker-3-Digital-Avalanche-Backcountry-Skiing-Snowboard-Beacon-Transceiver/193400751289?epid=21035047666&hash=item2d079544b9:g:qt4AAOSwoVtegBfp', 'listing_title': 'Details about  \\xa0', 'listing_price': 'US $105.00', 'condition': 'New', 'location': 'Seattle, Washington, United States', 'source': 'ebay'}\n",
      "{'listing_url': 'https://www.ebay.com/itm/Unused-Karhu-Backcountry-Telemark-Snow-Skis-190cm-HUNDREDS-of-pairs-SOLD/351839170131?epid=0&hash=item51eb3fae53:g:5e8AAOSwvTpaLq7t', 'listing_title': 'Details about  \\xa0', 'listing_price': 'US $29.99', 'condition': 'New other (see details)', 'location': 'Chattanooga, Tennessee, United States', 'source': 'ebay'}\n",
      "{'listing_url': 'https://www.ebay.com/itm/La-Sportiva-Syntron-Backcountry-Ski-Boots/303524441568?hash=item46ab776de0:g:D8MAAOSwQmhefNPC', 'listing_title': 'Details about  \\xa0', 'listing_price': 'US $119.00', 'condition': 'Used', 'location': 'Portland, Oregon, United States', 'source': 'ebay'}\n",
      "{'listing_url': 'https://www.ebay.com/itm/188cm-ROSSIGNOL-S7-Big-Mountain-Backcountry-Powder-Skis/233440842532?hash=item365a289324:g:IQgAAOSwW4Jd~X8j', 'listing_title': 'Details about  \\xa0', 'listing_price': 'US $299.00', 'condition': 'Used', 'location': 'Aurora, Colorado, United States', 'source': 'ebay'}\n",
      "{'listing_url': 'https://www.ebay.com/itm/NEW-BCA-Tracker-3-Digital-Avalanche-Backcountry-Skiing-Beacon-Transceiver/303526498795?epid=21035047666&hash=item46ab96d1eb:g:eB8AAOSw5JFegAhr', 'listing_title': 'Details about  \\xa0', 'listing_price': 'US $249.95', 'condition': 'New', 'location': 'USA, United States', 'source': 'ebay'}\n",
      "{'listing_url': 'https://www.ebay.com/itm/Black-Diamond-backpack-ava-lung-snowboard-ski-backcountry-touring/164135031801?hash=item263735d3f9:g:UFMAAOSwlpled3TI:sc:FedExHomeDelivery!95864!US!-1', 'listing_title': 'Details about  \\xa0', 'listing_price': 'US $115.00', 'condition': 'Used', 'location': 'Montrose, Colorado, United States', 'source': 'ebay'}\n",
      "{'listing_url': 'https://www.ebay.com/itm/Marquette-Backcountry-Marquette-Backcountry-Ski/313002817009?hash=item48e06bf5f1:m:moALEBHjrIvXBxtl_WrEqkw', 'listing_title': 'Details about  \\xa0', 'listing_price': 'US $189.00', 'condition': 'New', 'location': 'Salt Lake City, Utah, United States', 'source': 'ebay'}\n",
      "{'listing_url': 'https://www.ebay.com/itm/Fritschi-FT88-FT-88-AT-Alpine-Touring-Ski-Bindings-Telemark-Backcountry/324111420056?hash=item4b768bca98:g:1h4AAOSweaRed5ol', 'listing_title': 'Details about  \\xa0', 'listing_price': 'US $99.00', 'condition': 'Used', 'location': 'Jackson, Wyoming, United States', 'source': 'ebay'}\n",
      "{'listing_url': 'https://www.ebay.com/itm/Ortovox-Zoom-Avalanche-Beacon-Transceiver-Ski-Touring-Backcountry/283831094780?hash=item4215a6cdfc:g:kF8AAOSwY~pee5ZM', 'listing_title': 'Details about  \\xa0', 'listing_price': 'US $70.00', 'condition': 'Used', 'location': 'McMinnville, Oregon, United States', 'source': 'ebay'}\n",
      "{'listing_url': 'https://www.ebay.com/itm/170cm-VOLKL-GOTAMA-Backcountry-Powder-Telemark-Skis-w-22-Designs-Hammerhead/333483911904?hash=item4da530aae0:g:CbEAAOSw-rReImIX', 'listing_title': 'Details about  \\xa0', 'listing_price': 'US $369.00', 'condition': 'Used', 'location': 'Aurora, Colorado, United States', 'source': 'ebay'}\n",
      "{'listing_url': 'https://www.ebay.com/itm/K2-Anti-Piste-Telemark-Skis-181-cm-telemarking-backcountry-downhill-FRESH-TUNE/164018281937?hash=item2630405dd1:g:oCcAAOSwtgNeEOas', 'listing_title': 'Details about  \\xa0', 'listing_price': 'US $175.00', 'condition': 'Used', 'location': 'Telluride, Colorado, United States', 'source': 'ebay'}\n",
      "{'listing_url': 'https://www.ebay.com/itm/K2-Wayback-96-Skis-Backcountry-Alpine-Touring-177cm/184209162858?hash=item2ae3b8c26a:g:RUsAAOSwxv1ea66B', 'listing_title': 'Details about  \\xa0', 'listing_price': 'US $419.99', 'condition': 'New', 'location': 'Park City, Utah, United States', 'source': 'ebay'}\n",
      "{'listing_url': 'https://www.ebay.com/itm/Atomic-Peak-Backcountry-Touring-Skis-159cm-Length-Gray-Yellow/313026244357?hash=item48e1d16f05:g:cWYAAOSwYNpeanYW', 'listing_title': 'Details about  \\xa0', 'listing_price': 'US $229.99', 'condition': 'New other (see details)', 'location': 'Salt Lake City, Utah, United States', 'source': 'ebay'}\n",
      "{'listing_url': 'https://www.ebay.com/itm/Volkl-Revolt-121-Powder-Skis-Backcountry-Touring-Setup-177cm-Length-121mm-Waist/164142081553?hash=item2637a16611:g:6tYAAOSwwyFef7n-', 'listing_title': 'Details about  \\xa0', 'listing_price': 'US $800.00', 'condition': 'Used', 'location': 'Snowmass, Colorado, United States', 'source': 'ebay'}\n",
      "{'listing_url': 'https://www.ebay.com/itm/Black-Diamond-Helio-Recon-95-Ski-Alpine-Touring-Backcountry-173cm/184226204022?hash=item2ae4bcc976:g:hkcAAOSwDYNeRGL5', 'listing_title': 'Details about  \\xa0', 'listing_price': 'US $374.99', 'condition': 'New', 'location': 'Park City, Utah, United States', 'source': 'ebay'}\n",
      "{'listing_url': 'https://www.ebay.com/itm/ROSSIGNOL-2020-SOUL-7-HD-180CM-BACKCOUNTRY-A-T-SKIS-W-A-T-TECH-BINDINGS-NEW/362844150752?epid=11037127426&hash=item547b325be0:g:470AAOSwXHRd7dM9', 'listing_title': 'Details about  \\xa0', 'listing_price': 'US $749.00', 'condition': 'New', 'location': 'Seattle, Washington, United States', 'source': 'ebay'}\n",
      "{'listing_url': 'https://www.ebay.com/itm/ROSSIGNOL-2020-SKY-7-HD-180CM-BACKCOUNTRY-A-T-SKIS-W-A-T-TECH-BINDINGS-NEW/153712606626?hash=item23c9fc3da2:g:sQIAAOSwKp1dwhSI', 'listing_title': 'Details about  \\xa0', 'listing_price': 'US $799.00', 'condition': 'New', 'location': 'Seattle, Washington, United States', 'source': 'ebay'}\n",
      "{'listing_url': 'https://www.ebay.com/itm/ELAN-EVEREST-TOUR-SKIS-161-CM-BACK-COUNTRY-SKIS/163540125596?hash=item2613c0479c:g:cg8AAOSwBmJcYzFc', 'listing_title': 'Details about  \\xa0', 'listing_price': 'US $229.95', 'condition': 'New', 'location': 'Columbus, Ohio, United States', 'source': 'ebay'}\n",
      "{'listing_url': 'https://www.ebay.com/itm/ELAN-DENALI-MAGIC-165-TOURING-LADIES-BACK-COUNTRY-TOURING-SKIS-SIZE-165-CM/153375948295?hash=item23b5eb3e07:g:x88AAOSwtxtcYz44', 'listing_title': 'Details about  \\xa0', 'listing_price': 'US $219.95', 'condition': 'New', 'location': 'Columbus, Ohio, United States', 'source': 'ebay'}\n",
      "{'listing_url': 'https://www.ebay.com/itm/Atomic-Backland-78-158cm-Ski-Touring-Backcountry-Skimo-Skis/153758458554?epid=2073228459&hash=item23ccb7e2ba:g:-qsAAOSwEX1d8TeZ', 'listing_title': 'Details about  \\xa0', 'listing_price': 'US $299.99', 'condition': 'New', 'location': 'Boulder, Colorado, United States', 'source': 'ebay'}\n",
      "{'listing_url': 'https://www.ebay.com/itm/2020-Atomic-Backland-78-169cm-Backcountry-Touring-Skis-W-Free-Skins/153738454978?hash=item23cb86a7c2:g:RlcAAOSwe2Zd3BMn', 'listing_title': 'Details about  \\xa0', 'listing_price': 'US $399.99', 'condition': 'New', 'location': 'Boulder, Colorado, United States', 'source': 'ebay'}\n"
     ]
    },
    {
     "name": "stdout",
     "output_type": "stream",
     "text": [
      "{'listing_url': 'https://www.ebay.com/itm/NEW-Black-Diamond-Boundary-Pro-107-184cm-Backcountry-Skis/153838846755?hash=item23d1828323:g:LMcAAOSwzhleTcLd', 'listing_title': 'Details about  \\xa0', 'listing_price': 'US $475.00', 'condition': 'New', 'location': 'Prescott, Arizona, United States', 'source': 'ebay'}\n",
      "{'listing_url': 'https://www.ebay.com/itm/Atomic-Backland-78-164cm-Ski-Touring-Backcountry-Skimo-Skis/153758462120?epid=2073230707&hash=item23ccb7f0a8:g:-qsAAOSwEX1d8TeZ', 'listing_title': 'Details about  \\xa0', 'listing_price': 'US $299.99', 'condition': 'New', 'location': 'Boulder, Colorado, United States', 'source': 'ebay'}\n",
      "{'listing_url': 'https://www.ebay.com/itm/2020-Atomic-Backland-85i-Jet-Black-172cm-Backcountry-Touring-Skis/153738570900?hash=item23cb886c94:g:Q7gAAOSwZL5d3C5E', 'listing_title': 'Details about  \\xa0', 'listing_price': 'US $399.99', 'condition': 'New', 'location': 'Boulder, Colorado, United States', 'source': 'ebay'}\n",
      "{'listing_url': 'https://www.ebay.com/itm/New-Fischer-TransAlp-82-Backcountry-Touring-Skis-w-Transalp-Mohair-Skins/362958749617?hash=item548206ffb1:g:FGMAAOSw56JegjA2', 'listing_title': 'Details about  \\xa0', 'listing_price': 'US $349.99', 'condition': 'New', 'location': 'Salt Lake City, Utah, United States', 'source': 'ebay'}\n",
      "{'listing_url': 'https://www.ebay.com/itm/2020-Atomic-Backland-WMN-78-151cm-Backcountry-Ski-Touring-Skis/153734829203?epid=8035343519&hash=item23cb4f5493:g:EosAAOSwbm9d2B8m', 'listing_title': 'Details about  \\xa0', 'listing_price': 'US $349.99', 'condition': 'New', 'location': 'Boulder, Colorado, United States', 'source': 'ebay'}\n",
      "{'listing_url': 'https://www.ebay.com/itm/Volkl-Gotama-179cm-Skis-w-Dynastar-Legend-Releasable-Backcountry-Bindings/233544007155?hash=item36604ebdf3:g:K70AAOSwOGleU~v4', 'listing_title': 'Details about  \\xa0', 'listing_price': 'US $275.00', 'condition': 'Used', 'location': 'Pawling, New York, United States', 'source': 'ebay'}\n",
      "{'listing_url': 'https://www.ebay.com/itm/ROSSIGNOL-BC-80-Positrack-Backcountry-Touring-Skis-2020-186/323981652385?hash=item4b6ecfb1a1:g:pA4AAOSwooFdzxwT', 'listing_title': 'Details about  \\xa0', 'listing_price': 'US $279.95', 'condition': 'New', 'location': 'Pinedale, Wyoming, United States', 'source': 'ebay'}\n",
      "{'listing_url': 'https://www.ebay.com/itm/Volkl-Amaruq-177-cm-Backcountry-touring-skis-22m-radius/113881591342?hash=item1a83df2e2e:g:dpUAAOSwzZlddU7N', 'listing_title': 'Details about  \\xa0', 'listing_price': 'US $150.00', 'condition': 'Used', 'location': 'Jackson, Wyoming, United States', 'source': 'ebay'}\n",
      "{'listing_url': 'https://www.ebay.com/itm/180cm-METAL-EDGE-BACK-COUNTRY-CROSS-COUNTRY-SKIS-PACKAGE-UNBOX-SKI/293468432420?hash=item445414e824:m:mVG_QGU1WCza0PsnqiDU3dw', 'listing_title': 'Details about  \\xa0', 'listing_price': 'US $219.00', 'condition': 'New', 'location': 'Grafton, Wisconsin, United States', 'source': 'ebay'}\n",
      "{'listing_url': 'https://www.ebay.com/itm/Fischer-Backcountry-XC-Nordic-Ski-Package-Traverse-78-Offtrack-5-BC-Rottefella/324100247641?hash=item4b75e15059:g:5UcAAOSwj7heaUJh', 'listing_title': 'Details about  \\xa0', 'listing_price': 'US $350.00', 'condition': 'New', 'location': 'Saint Paul, Minnesota, United States', 'source': 'ebay'}\n",
      "{'listing_url': 'https://www.ebay.com/itm/Sporten-Free-Walk-Backcountry-Gliding-Skiboards-Ski-Trekkors-with-Skins/323935614938?hash=item4b6c1137da:g:g2UAAOSwihtdlOZK', 'listing_title': 'Details about  \\xa0', 'listing_price': 'US $425.00', 'condition': 'New', 'location': 'Bayfield, Colorado, United States', 'source': 'ebay'}\n",
      "{'listing_url': 'https://www.ebay.com/itm/NEW-Metal-Edge-XC-cross-country-BC-back-country-SKIS-BINDINGS-PACKAGE-197cm/392265014592?hash=item5b54d11d40:m:mC1Vf3f7hGRSabaAj0kZ80Q', 'listing_title': 'Details about  \\xa0', 'listing_price': 'US $199.00', 'condition': 'New', 'location': 'Somers, Connecticut, United States', 'source': 'ebay'}\n",
      "{'listing_url': 'https://www.ebay.com/itm/Salomon-MTN-Explore-88-Backcountry-Alpine-Touring-AT-Ski-New-2020-177cm/264589429372?hash=item3d9ac24a7c:g:5TkAAOSwwUJeEkhr', 'listing_title': 'Details about  \\xa0', 'listing_price': 'US $439.00', 'condition': 'New', 'location': 'Washington, District Of Columbia, United States', 'source': 'ebay'}\n",
      "{'listing_url': 'https://www.ebay.com/itm/Movement-Fly-Two-95-172cm-Skis-Backcountry-and-Park-Freeride-skis/254174978748?hash=item3b2e0262bc:g:O08AAOSwj~Vclqrl', 'listing_title': 'Details about  \\xa0', 'listing_price': 'US $599.95', 'condition': 'New', 'location': 'Salt Lake City, Utah, United States', 'source': 'ebay'}\n",
      "{'listing_url': 'https://www.ebay.com/itm/Salomon-S-LAB-MTN-Backcountry-Ski-Boots-25-5/193366000802?hash=item2d058304a2:g:ApkAAOSwl0xeXPFd', 'listing_title': 'Details about  \\xa0', 'listing_price': 'US $499.00', 'condition': 'New', 'location': 'Corning, New York, United States', 'source': 'ebay'}\n",
      "{'listing_url': 'https://www.ebay.com/itm/BRAND-NEW-2016-Volkl-BMT-109-Backcountry-Touring-skis-176-cm/333560879226?hash=item4da9c7187a:g:WYoAAOSw3BBeWr2W', 'listing_title': 'Details about  \\xa0', 'listing_price': 'US $499.00', 'condition': 'New', 'location': 'Bremerton, Washington, United States', 'source': 'ebay'}\n",
      "{'listing_url': 'https://www.ebay.com/itm/ELAN-DENALI-MAGIC-170-TOURING-LADIES-BACK-COUNTRY-SKIS-SIZE-170-CM/153375961924?hash=item23b5eb7344:g:-7oAAOSwl7pcYzze', 'listing_title': 'Details about  \\xa0', 'listing_price': 'US $219.95', 'condition': 'New', 'location': 'Columbus, Ohio, United States', 'source': 'ebay'}\n",
      "{'listing_url': 'https://www.ebay.com/itm/womens-Black-Diamond-backcountry-Swift-ski-boots-270mm/383484292064?hash=item594971ebe0:g:fSgAAOSwRS1eb9ZN', 'listing_title': 'Details about  \\xa0', 'listing_price': 'US $100.00', 'condition': 'Pre-owned', 'location': 'Salt Lake City, Utah, United States', 'source': 'ebay'}\n",
      "{'listing_url': 'https://www.ebay.com/itm/Hart-Wizard-189-Twin-tip-back-country-touring-all-Mountain-powder-ski/193192523239?hash=item2cfb2bf5e7:g:NeUAAOSwZ~ldti5Y', 'listing_title': 'Details about  \\xa0', 'listing_price': 'US $500.00', 'condition': 'New', 'location': 'Salmon, Idaho, United States', 'source': 'ebay'}\n",
      "{'listing_url': 'https://www.ebay.com/itm/2013-Salomon-Guardian-16-MNC-Frame-ski-Binding-backcountry-Sz-L-115-brake-width/283829226665?hash=item42158a4ca9:g:vgkAAOSwY5pefoIE', 'listing_title': 'Details about  \\xa0', 'listing_price': 'US $99.69', 'condition': 'Used', 'location': 'Fort Collins, Colorado, United States', 'source': 'ebay'}\n",
      "{'listing_url': 'https://www.ebay.com/itm/Brand-New-Salomon-S-Lab-MTN-High-Performance-Backcountry-Ski-Boot-Size-26-5/353027891092?hash=item52321a1f94:g:VN8AAOSwEDBdiZ22', 'listing_title': 'Details about  \\xa0', 'listing_price': 'US $450.00', 'condition': 'New', 'location': 'Hanover, New Hampshire, United States', 'source': 'ebay'}\n",
      "{'listing_url': 'https://www.ebay.com/itm/2020-Rossignol-BC-100-Positrack-Backcountry-XC-Touring-Skis-RHIWC16/193368881234?hash=item2d05aef852:m:mjXzlqIQ_1z7F58pWLBWQVw', 'listing_title': 'Details about  \\xa0', 'listing_price': 'US $329.95', 'condition': 'New', 'location': 'Stowe, Vermont, United States', 'source': 'ebay'}\n",
      "{'listing_url': 'https://www.ebay.com/itm/NEW-TITAN-metal-BC-BACK-COUNTRY-XC-SKIS-BINDINGS-POLES-PACKAGE-160cm/202630513424?hash=item2f2db84310:m:mwVtdZ31gJlZb-dCgqEGK8g', 'listing_title': 'Details about  \\xa0', 'listing_price': 'US $219.00', 'condition': 'New', 'location': 'Somers, Connecticut, United States', 'source': 'ebay'}\n",
      "{'listing_url': 'https://www.ebay.com/itm/New-DPS-Alchemist-Wailer-112-Carbon-All-Mountain-Backcountry-Inbounds-Ski-184cm/114089213301?hash=item1a903f3d75:g:ZjMAAOSwaoBdn~Xx', 'listing_title': 'Details about  \\xa0', 'listing_price': 'US $999.99', 'condition': 'New', 'location': 'Denver, Colorado, United States', 'source': 'ebay'}\n",
      "{'listing_url': 'https://www.ebay.com/itm/Black-Diamond-Aspect-Powder-Backcountry-Touring-AT-Skis-186cm-132-90-119/274318099878?hash=item3fdea205a6:g:aecAAOSwWapee80P', 'listing_title': 'Details about  \\xa0', 'listing_price': 'US $159.00', 'condition': 'Used', 'location': 'Huntington Beach, California, United States', 'source': 'ebay'}\n",
      "{'listing_url': 'https://www.ebay.com/itm/Atomic-Drifter-backcountry-skis-164cm-95mm/303518378688?hash=item46ab1aeac0:g:2BoAAOSwngBecuXL', 'listing_title': 'Details about  \\xa0', 'listing_price': 'US $180.00', 'condition': 'Used', 'location': 'Castro Valley, California, United States', 'source': 'ebay'}\n"
     ]
    },
    {
     "name": "stdout",
     "output_type": "stream",
     "text": [
      "{'listing_url': 'https://www.ebay.com/itm/K2-Gotback-Backcountry-Womens-Skis-160cm/283828347569?hash=item42157ce2b1:g:PF8AAOSwFIpefVUV', 'listing_title': 'Details about  \\xa0', 'listing_price': 'US $200.00', 'condition': 'Used', 'location': 'Sandy, Utah, United States', 'source': 'ebay'}\n",
      "{'listing_url': 'https://www.ebay.com/itm/Atomic-Backland-95-Skins-Ski-Touring-Backcountry/153789908462?hash=item23ce97c5ee:m:meLnnqes74EvXWduDWtSvHQ', 'listing_title': 'Details about  \\xa0', 'listing_price': 'US $79.99', 'condition': 'New', 'location': 'Boulder, Colorado, United States', 'source': 'ebay'}\n",
      "{'listing_url': 'https://www.ebay.com/itm/2019-Rossignol-BC-70-Positrack-Backcountry-XC-Touring-Skis-w-BC-Magnum-Bindings/202938034618?hash=item2f400ca9ba:m:mL67TAgQhrV1VARq2jIyY0A', 'listing_title': 'Details about  \\xa0', 'listing_price': 'US $224.96', 'condition': 'New', 'location': 'Stowe, Vermont, United States', 'source': 'ebay'}\n",
      "{'listing_url': 'https://www.ebay.com/itm/BCA-Tracker-3-Digital-Avalanche-Backcountry-Skiing-Snowboard-Beacon-Transceiver/193400751289?epid=21035047666&hash=item2d079544b9:g:qt4AAOSwoVtegBfp', 'listing_title': 'Details about  \\xa0', 'listing_price': 'US $105.00', 'condition': 'New', 'location': 'Seattle, Washington, United States', 'source': 'ebay'}\n",
      "{'listing_url': 'https://www.ebay.com/itm/Unused-Karhu-Backcountry-Telemark-Snow-Skis-190cm-HUNDREDS-of-pairs-SOLD/351839170131?epid=0&hash=item51eb3fae53:g:5e8AAOSwvTpaLq7t', 'listing_title': 'Details about  \\xa0', 'listing_price': 'US $29.99', 'condition': 'New other (see details)', 'location': 'Chattanooga, Tennessee, United States', 'source': 'ebay'}\n",
      "{'listing_url': 'https://www.ebay.com/itm/La-Sportiva-Syntron-Backcountry-Ski-Boots/303524441568?hash=item46ab776de0:g:D8MAAOSwQmhefNPC', 'listing_title': 'Details about  \\xa0', 'listing_price': 'US $119.00', 'condition': 'Used', 'location': 'Portland, Oregon, United States', 'source': 'ebay'}\n",
      "{'listing_url': 'https://www.ebay.com/itm/188cm-ROSSIGNOL-S7-Big-Mountain-Backcountry-Powder-Skis/233440842532?hash=item365a289324:g:IQgAAOSwW4Jd~X8j', 'listing_title': 'Details about  \\xa0', 'listing_price': 'US $299.00', 'condition': 'Used', 'location': 'Aurora, Colorado, United States', 'source': 'ebay'}\n",
      "{'listing_url': 'https://www.ebay.com/itm/NEW-BCA-Tracker-3-Digital-Avalanche-Backcountry-Skiing-Beacon-Transceiver/303526498795?epid=21035047666&hash=item46ab96d1eb:g:eB8AAOSw5JFegAhr', 'listing_title': 'Details about  \\xa0', 'listing_price': 'US $249.95', 'condition': 'New', 'location': 'USA, United States', 'source': 'ebay'}\n",
      "{'listing_url': 'https://www.ebay.com/itm/Black-Diamond-backpack-ava-lung-snowboard-ski-backcountry-touring/164135031801?hash=item263735d3f9:g:UFMAAOSwlpled3TI:sc:FedExHomeDelivery!95864!US!-1', 'listing_title': 'Details about  \\xa0', 'listing_price': 'US $115.00', 'condition': 'Used', 'location': 'Montrose, Colorado, United States', 'source': 'ebay'}\n",
      "{'listing_url': 'https://www.ebay.com/itm/Marquette-Backcountry-Marquette-Backcountry-Ski/313002817009?hash=item48e06bf5f1:m:moALEBHjrIvXBxtl_WrEqkw', 'listing_title': 'Details about  \\xa0', 'listing_price': 'US $189.00', 'condition': 'New', 'location': 'Salt Lake City, Utah, United States', 'source': 'ebay'}\n",
      "{'listing_url': 'https://www.ebay.com/itm/Fritschi-FT88-FT-88-AT-Alpine-Touring-Ski-Bindings-Telemark-Backcountry/324111420056?hash=item4b768bca98:g:1h4AAOSweaRed5ol', 'listing_title': 'Details about  \\xa0', 'listing_price': 'US $99.00', 'condition': 'Used', 'location': 'Jackson, Wyoming, United States', 'source': 'ebay'}\n",
      "{'listing_url': 'https://www.ebay.com/itm/Ortovox-Zoom-Avalanche-Beacon-Transceiver-Ski-Touring-Backcountry/283831094780?hash=item4215a6cdfc:g:kF8AAOSwY~pee5ZM', 'listing_title': 'Details about  \\xa0', 'listing_price': 'US $70.00', 'condition': 'Used', 'location': 'McMinnville, Oregon, United States', 'source': 'ebay'}\n",
      "{'listing_url': 'https://www.ebay.com/itm/170cm-VOLKL-GOTAMA-Backcountry-Powder-Telemark-Skis-w-22-Designs-Hammerhead/333483911904?hash=item4da530aae0:g:CbEAAOSw-rReImIX', 'listing_title': 'Details about  \\xa0', 'listing_price': 'US $369.00', 'condition': 'Used', 'location': 'Aurora, Colorado, United States', 'source': 'ebay'}\n",
      "{'listing_url': 'https://www.ebay.com/itm/K2-Anti-Piste-Telemark-Skis-181-cm-telemarking-backcountry-downhill-FRESH-TUNE/164018281937?hash=item2630405dd1:g:oCcAAOSwtgNeEOas', 'listing_title': 'Details about  \\xa0', 'listing_price': 'US $175.00', 'condition': 'Used', 'location': 'Telluride, Colorado, United States', 'source': 'ebay'}\n",
      "{'listing_url': 'https://www.ebay.com/itm/K2-Wayback-96-Skis-Backcountry-Alpine-Touring-177cm/184209162858?hash=item2ae3b8c26a:g:RUsAAOSwxv1ea66B', 'listing_title': 'Details about  \\xa0', 'listing_price': 'US $419.99', 'condition': 'New', 'location': 'Park City, Utah, United States', 'source': 'ebay'}\n",
      "{'listing_url': 'https://www.ebay.com/itm/Atomic-Peak-Backcountry-Touring-Skis-159cm-Length-Gray-Yellow/313026244357?hash=item48e1d16f05:g:cWYAAOSwYNpeanYW', 'listing_title': 'Details about  \\xa0', 'listing_price': 'US $229.99', 'condition': 'New other (see details)', 'location': 'Salt Lake City, Utah, United States', 'source': 'ebay'}\n",
      "{'listing_url': 'https://www.ebay.com/itm/Volkl-Revolt-121-Powder-Skis-Backcountry-Touring-Setup-177cm-Length-121mm-Waist/164142081553?hash=item2637a16611:g:6tYAAOSwwyFef7n-', 'listing_title': 'Details about  \\xa0', 'listing_price': 'US $800.00', 'condition': 'Used', 'location': 'Snowmass, Colorado, United States', 'source': 'ebay'}\n",
      "{'listing_url': 'https://www.ebay.com/itm/Black-Diamond-Helio-Recon-95-Ski-Alpine-Touring-Backcountry-173cm/184226204022?hash=item2ae4bcc976:g:hkcAAOSwDYNeRGL5', 'listing_title': 'Details about  \\xa0', 'listing_price': 'US $374.99', 'condition': 'New', 'location': 'Park City, Utah, United States', 'source': 'ebay'}\n",
      "{'listing_url': 'https://www.ebay.com/itm/ROSSIGNOL-2020-SOUL-7-HD-180CM-BACKCOUNTRY-A-T-SKIS-W-A-T-TECH-BINDINGS-NEW/362844150752?epid=11037127426&hash=item547b325be0:g:470AAOSwXHRd7dM9', 'listing_title': 'Details about  \\xa0', 'listing_price': 'US $749.00', 'condition': 'New', 'location': 'Seattle, Washington, United States', 'source': 'ebay'}\n",
      "{'listing_url': 'https://www.ebay.com/itm/ROSSIGNOL-2020-SKY-7-HD-180CM-BACKCOUNTRY-A-T-SKIS-W-A-T-TECH-BINDINGS-NEW/153712606626?hash=item23c9fc3da2:g:sQIAAOSwKp1dwhSI', 'listing_title': 'Details about  \\xa0', 'listing_price': 'US $799.00', 'condition': 'New', 'location': 'Seattle, Washington, United States', 'source': 'ebay'}\n",
      "{'listing_url': 'https://www.ebay.com/itm/ELAN-EVEREST-TOUR-SKIS-161-CM-BACK-COUNTRY-SKIS/163540125596?hash=item2613c0479c:g:cg8AAOSwBmJcYzFc', 'listing_title': 'Details about  \\xa0', 'listing_price': 'US $229.95', 'condition': 'New', 'location': 'Columbus, Ohio, United States', 'source': 'ebay'}\n",
      "{'listing_url': 'https://www.ebay.com/itm/ELAN-DENALI-MAGIC-165-TOURING-LADIES-BACK-COUNTRY-TOURING-SKIS-SIZE-165-CM/153375948295?hash=item23b5eb3e07:g:x88AAOSwtxtcYz44', 'listing_title': 'Details about  \\xa0', 'listing_price': 'US $219.95', 'condition': 'New', 'location': 'Columbus, Ohio, United States', 'source': 'ebay'}\n",
      "{'listing_url': 'https://www.ebay.com/itm/Atomic-Backland-78-158cm-Ski-Touring-Backcountry-Skimo-Skis/153758458554?epid=2073228459&hash=item23ccb7e2ba:g:-qsAAOSwEX1d8TeZ', 'listing_title': 'Details about  \\xa0', 'listing_price': 'US $299.99', 'condition': 'New', 'location': 'Boulder, Colorado, United States', 'source': 'ebay'}\n",
      "{'listing_url': 'https://www.ebay.com/itm/2020-Atomic-Backland-78-169cm-Backcountry-Touring-Skis-W-Free-Skins/153738454978?hash=item23cb86a7c2:g:RlcAAOSwe2Zd3BMn', 'listing_title': 'Details about  \\xa0', 'listing_price': 'US $399.99', 'condition': 'New', 'location': 'Boulder, Colorado, United States', 'source': 'ebay'}\n",
      "{'listing_url': 'https://www.ebay.com/itm/NEW-Black-Diamond-Boundary-Pro-107-184cm-Backcountry-Skis/153838846755?hash=item23d1828323:g:LMcAAOSwzhleTcLd', 'listing_title': 'Details about  \\xa0', 'listing_price': 'US $475.00', 'condition': 'New', 'location': 'Prescott, Arizona, United States', 'source': 'ebay'}\n",
      "{'listing_url': 'https://www.ebay.com/itm/Atomic-Backland-78-164cm-Ski-Touring-Backcountry-Skimo-Skis/153758462120?epid=2073230707&hash=item23ccb7f0a8:g:-qsAAOSwEX1d8TeZ', 'listing_title': 'Details about  \\xa0', 'listing_price': 'US $299.99', 'condition': 'New', 'location': 'Boulder, Colorado, United States', 'source': 'ebay'}\n"
     ]
    },
    {
     "name": "stdout",
     "output_type": "stream",
     "text": [
      "{'listing_url': 'https://www.ebay.com/itm/2020-Atomic-Backland-85i-Jet-Black-172cm-Backcountry-Touring-Skis/153738570900?hash=item23cb886c94:g:Q7gAAOSwZL5d3C5E', 'listing_title': 'Details about  \\xa0', 'listing_price': 'US $399.99', 'condition': 'New', 'location': 'Boulder, Colorado, United States', 'source': 'ebay'}\n",
      "{'listing_url': 'https://www.ebay.com/itm/New-Fischer-TransAlp-82-Backcountry-Touring-Skis-w-Transalp-Mohair-Skins/362958749617?hash=item548206ffb1:g:FGMAAOSw56JegjA2', 'listing_title': 'Details about  \\xa0', 'listing_price': 'US $349.99', 'condition': 'New', 'location': 'Salt Lake City, Utah, United States', 'source': 'ebay'}\n",
      "{'listing_url': 'https://www.ebay.com/itm/2020-Atomic-Backland-WMN-78-151cm-Backcountry-Ski-Touring-Skis/153734829203?epid=8035343519&hash=item23cb4f5493:g:EosAAOSwbm9d2B8m', 'listing_title': 'Details about  \\xa0', 'listing_price': 'US $349.99', 'condition': 'New', 'location': 'Boulder, Colorado, United States', 'source': 'ebay'}\n",
      "{'listing_url': 'https://www.ebay.com/itm/Volkl-Gotama-179cm-Skis-w-Dynastar-Legend-Releasable-Backcountry-Bindings/233544007155?hash=item36604ebdf3:g:K70AAOSwOGleU~v4', 'listing_title': 'Details about  \\xa0', 'listing_price': 'US $275.00', 'condition': 'Used', 'location': 'Pawling, New York, United States', 'source': 'ebay'}\n",
      "{'listing_url': 'https://www.ebay.com/itm/ROSSIGNOL-BC-80-Positrack-Backcountry-Touring-Skis-2020-186/323981652385?hash=item4b6ecfb1a1:g:pA4AAOSwooFdzxwT', 'listing_title': 'Details about  \\xa0', 'listing_price': 'US $279.95', 'condition': 'New', 'location': 'Pinedale, Wyoming, United States', 'source': 'ebay'}\n",
      "{'listing_url': 'https://www.ebay.com/itm/Volkl-Amaruq-177-cm-Backcountry-touring-skis-22m-radius/113881591342?hash=item1a83df2e2e:g:dpUAAOSwzZlddU7N', 'listing_title': 'Details about  \\xa0', 'listing_price': 'US $150.00', 'condition': 'Used', 'location': 'Jackson, Wyoming, United States', 'source': 'ebay'}\n",
      "{'listing_url': 'https://www.ebay.com/itm/180cm-METAL-EDGE-BACK-COUNTRY-CROSS-COUNTRY-SKIS-PACKAGE-UNBOX-SKI/293468432420?hash=item445414e824:m:mVG_QGU1WCza0PsnqiDU3dw', 'listing_title': 'Details about  \\xa0', 'listing_price': 'US $219.00', 'condition': 'New', 'location': 'Grafton, Wisconsin, United States', 'source': 'ebay'}\n",
      "{'listing_url': 'https://www.ebay.com/itm/Fischer-Backcountry-XC-Nordic-Ski-Package-Traverse-78-Offtrack-5-BC-Rottefella/324100247641?hash=item4b75e15059:g:5UcAAOSwj7heaUJh', 'listing_title': 'Details about  \\xa0', 'listing_price': 'US $350.00', 'condition': 'New', 'location': 'Saint Paul, Minnesota, United States', 'source': 'ebay'}\n",
      "{'listing_url': 'https://www.ebay.com/itm/Sporten-Free-Walk-Backcountry-Gliding-Skiboards-Ski-Trekkors-with-Skins/323935614938?hash=item4b6c1137da:g:g2UAAOSwihtdlOZK', 'listing_title': 'Details about  \\xa0', 'listing_price': 'US $425.00', 'condition': 'New', 'location': 'Bayfield, Colorado, United States', 'source': 'ebay'}\n",
      "{'listing_url': 'https://www.ebay.com/itm/NEW-Metal-Edge-XC-cross-country-BC-back-country-SKIS-BINDINGS-PACKAGE-197cm/392265014592?hash=item5b54d11d40:m:mC1Vf3f7hGRSabaAj0kZ80Q', 'listing_title': 'Details about  \\xa0', 'listing_price': 'US $199.00', 'condition': 'New', 'location': 'Somers, Connecticut, United States', 'source': 'ebay'}\n",
      "{'listing_url': 'https://www.ebay.com/itm/Salomon-MTN-Explore-88-Backcountry-Alpine-Touring-AT-Ski-New-2020-177cm/264589429372?hash=item3d9ac24a7c:g:5TkAAOSwwUJeEkhr', 'listing_title': 'Details about  \\xa0', 'listing_price': 'US $439.00', 'condition': 'New', 'location': 'Washington, District Of Columbia, United States', 'source': 'ebay'}\n",
      "{'listing_url': 'https://www.ebay.com/itm/Movement-Fly-Two-95-172cm-Skis-Backcountry-and-Park-Freeride-skis/254174978748?hash=item3b2e0262bc:g:O08AAOSwj~Vclqrl', 'listing_title': 'Details about  \\xa0', 'listing_price': 'US $599.95', 'condition': 'New', 'location': 'Salt Lake City, Utah, United States', 'source': 'ebay'}\n",
      "{'listing_url': 'https://www.ebay.com/itm/Salomon-S-LAB-MTN-Backcountry-Ski-Boots-25-5/193366000802?hash=item2d058304a2:g:ApkAAOSwl0xeXPFd', 'listing_title': 'Details about  \\xa0', 'listing_price': 'US $499.00', 'condition': 'New', 'location': 'Corning, New York, United States', 'source': 'ebay'}\n",
      "{'listing_url': 'https://www.ebay.com/itm/BRAND-NEW-2016-Volkl-BMT-109-Backcountry-Touring-skis-176-cm/333560879226?hash=item4da9c7187a:g:WYoAAOSw3BBeWr2W', 'listing_title': 'Details about  \\xa0', 'listing_price': 'US $499.00', 'condition': 'New', 'location': 'Bremerton, Washington, United States', 'source': 'ebay'}\n",
      "{'listing_url': 'https://www.ebay.com/itm/ELAN-DENALI-MAGIC-170-TOURING-LADIES-BACK-COUNTRY-SKIS-SIZE-170-CM/153375961924?hash=item23b5eb7344:g:-7oAAOSwl7pcYzze', 'listing_title': 'Details about  \\xa0', 'listing_price': 'US $219.95', 'condition': 'New', 'location': 'Columbus, Ohio, United States', 'source': 'ebay'}\n",
      "{'listing_url': 'https://www.ebay.com/itm/womens-Black-Diamond-backcountry-Swift-ski-boots-270mm/383484292064?hash=item594971ebe0:g:fSgAAOSwRS1eb9ZN', 'listing_title': 'Details about  \\xa0', 'listing_price': 'US $100.00', 'condition': 'Pre-owned', 'location': 'Salt Lake City, Utah, United States', 'source': 'ebay'}\n",
      "{'listing_url': 'https://www.ebay.com/itm/Hart-Wizard-189-Twin-tip-back-country-touring-all-Mountain-powder-ski/193192523239?hash=item2cfb2bf5e7:g:NeUAAOSwZ~ldti5Y', 'listing_title': 'Details about  \\xa0', 'listing_price': 'US $500.00', 'condition': 'New', 'location': 'Salmon, Idaho, United States', 'source': 'ebay'}\n",
      "{'listing_url': 'https://www.ebay.com/itm/2013-Salomon-Guardian-16-MNC-Frame-ski-Binding-backcountry-Sz-L-115-brake-width/283829226665?hash=item42158a4ca9:g:vgkAAOSwY5pefoIE', 'listing_title': 'Details about  \\xa0', 'listing_price': 'US $99.69', 'condition': 'Used', 'location': 'Fort Collins, Colorado, United States', 'source': 'ebay'}\n",
      "{'listing_url': 'https://www.ebay.com/itm/Brand-New-Salomon-S-Lab-MTN-High-Performance-Backcountry-Ski-Boot-Size-26-5/353027891092?hash=item52321a1f94:g:VN8AAOSwEDBdiZ22', 'listing_title': 'Details about  \\xa0', 'listing_price': 'US $450.00', 'condition': 'New', 'location': 'Hanover, New Hampshire, United States', 'source': 'ebay'}\n",
      "{'listing_url': 'https://www.ebay.com/itm/2020-Rossignol-BC-100-Positrack-Backcountry-XC-Touring-Skis-RHIWC16/193368881234?hash=item2d05aef852:m:mjXzlqIQ_1z7F58pWLBWQVw', 'listing_title': 'Details about  \\xa0', 'listing_price': 'US $329.95', 'condition': 'New', 'location': 'Stowe, Vermont, United States', 'source': 'ebay'}\n",
      "{'listing_url': 'https://www.ebay.com/itm/NEW-TITAN-metal-BC-BACK-COUNTRY-XC-SKIS-BINDINGS-POLES-PACKAGE-160cm/202630513424?hash=item2f2db84310:m:mwVtdZ31gJlZb-dCgqEGK8g', 'listing_title': 'Details about  \\xa0', 'listing_price': 'US $219.00', 'condition': 'New', 'location': 'Somers, Connecticut, United States', 'source': 'ebay'}\n",
      "{'listing_url': 'https://www.ebay.com/itm/New-DPS-Alchemist-Wailer-112-Carbon-All-Mountain-Backcountry-Inbounds-Ski-184cm/114089213301?hash=item1a903f3d75:g:ZjMAAOSwaoBdn~Xx', 'listing_title': 'Details about  \\xa0', 'listing_price': 'US $999.99', 'condition': 'New', 'location': 'Denver, Colorado, United States', 'source': 'ebay'}\n",
      "{'listing_url': 'https://www.ebay.com/itm/Black-Diamond-Aspect-Powder-Backcountry-Touring-AT-Skis-186cm-132-90-119/274318099878?hash=item3fdea205a6:g:aecAAOSwWapee80P', 'listing_title': 'Details about  \\xa0', 'listing_price': 'US $159.00', 'condition': 'Used', 'location': 'Huntington Beach, California, United States', 'source': 'ebay'}\n",
      "{'listing_url': 'https://www.ebay.com/itm/Atomic-Drifter-backcountry-skis-164cm-95mm/303518378688?hash=item46ab1aeac0:g:2BoAAOSwngBecuXL', 'listing_title': 'Details about  \\xa0', 'listing_price': 'US $180.00', 'condition': 'Used', 'location': 'Castro Valley, California, United States', 'source': 'ebay'}\n",
      "{'listing_url': 'https://www.ebay.com/itm/K2-Gotback-Backcountry-Womens-Skis-160cm/283828347569?hash=item42157ce2b1:g:PF8AAOSwFIpefVUV', 'listing_title': 'Details about  \\xa0', 'listing_price': 'US $200.00', 'condition': 'Used', 'location': 'Sandy, Utah, United States', 'source': 'ebay'}\n",
      "{'listing_url': 'https://www.ebay.com/itm/Atomic-Backland-95-Skins-Ski-Touring-Backcountry/153789908462?hash=item23ce97c5ee:m:meLnnqes74EvXWduDWtSvHQ', 'listing_title': 'Details about  \\xa0', 'listing_price': 'US $79.99', 'condition': 'New', 'location': 'Boulder, Colorado, United States', 'source': 'ebay'}\n"
     ]
    },
    {
     "name": "stdout",
     "output_type": "stream",
     "text": [
      "{'listing_url': 'https://www.ebay.com/itm/2019-Rossignol-BC-70-Positrack-Backcountry-XC-Touring-Skis-w-BC-Magnum-Bindings/202938034618?hash=item2f400ca9ba:m:mL67TAgQhrV1VARq2jIyY0A', 'listing_title': 'Details about  \\xa0', 'listing_price': 'US $224.96', 'condition': 'New', 'location': 'Stowe, Vermont, United States', 'source': 'ebay'}\n",
      "{'listing_url': 'https://www.ebay.com/itm/BCA-Tracker-3-Digital-Avalanche-Backcountry-Skiing-Snowboard-Beacon-Transceiver/193400751289?epid=21035047666&hash=item2d079544b9:g:qt4AAOSwoVtegBfp', 'listing_title': 'Details about  \\xa0', 'listing_price': 'US $105.00', 'condition': 'New', 'location': 'Seattle, Washington, United States', 'source': 'ebay'}\n",
      "{'listing_url': 'https://www.ebay.com/itm/Unused-Karhu-Backcountry-Telemark-Snow-Skis-190cm-HUNDREDS-of-pairs-SOLD/351839170131?epid=0&hash=item51eb3fae53:g:5e8AAOSwvTpaLq7t', 'listing_title': 'Details about  \\xa0', 'listing_price': 'US $29.99', 'condition': 'New other (see details)', 'location': 'Chattanooga, Tennessee, United States', 'source': 'ebay'}\n",
      "{'listing_url': 'https://www.ebay.com/itm/La-Sportiva-Syntron-Backcountry-Ski-Boots/303524441568?hash=item46ab776de0:g:D8MAAOSwQmhefNPC', 'listing_title': 'Details about  \\xa0', 'listing_price': 'US $119.00', 'condition': 'Used', 'location': 'Portland, Oregon, United States', 'source': 'ebay'}\n",
      "{'listing_url': 'https://www.ebay.com/itm/188cm-ROSSIGNOL-S7-Big-Mountain-Backcountry-Powder-Skis/233440842532?hash=item365a289324:g:IQgAAOSwW4Jd~X8j', 'listing_title': 'Details about  \\xa0', 'listing_price': 'US $299.00', 'condition': 'Used', 'location': 'Aurora, Colorado, United States', 'source': 'ebay'}\n",
      "{'listing_url': 'https://www.ebay.com/itm/NEW-BCA-Tracker-3-Digital-Avalanche-Backcountry-Skiing-Beacon-Transceiver/303526498795?epid=21035047666&hash=item46ab96d1eb:g:eB8AAOSw5JFegAhr', 'listing_title': 'Details about  \\xa0', 'listing_price': 'US $249.95', 'condition': 'New', 'location': 'USA, United States', 'source': 'ebay'}\n",
      "{'listing_url': 'https://www.ebay.com/itm/Black-Diamond-backpack-ava-lung-snowboard-ski-backcountry-touring/164135031801?hash=item263735d3f9:g:UFMAAOSwlpled3TI:sc:FedExHomeDelivery!95864!US!-1', 'listing_title': 'Details about  \\xa0', 'listing_price': 'US $115.00', 'condition': 'Used', 'location': 'Montrose, Colorado, United States', 'source': 'ebay'}\n",
      "{'listing_url': 'https://www.ebay.com/itm/Marquette-Backcountry-Marquette-Backcountry-Ski/313002817009?hash=item48e06bf5f1:m:moALEBHjrIvXBxtl_WrEqkw', 'listing_title': 'Details about  \\xa0', 'listing_price': 'US $189.00', 'condition': 'New', 'location': 'Salt Lake City, Utah, United States', 'source': 'ebay'}\n",
      "{'listing_url': 'https://www.ebay.com/itm/Fritschi-FT88-FT-88-AT-Alpine-Touring-Ski-Bindings-Telemark-Backcountry/324111420056?hash=item4b768bca98:g:1h4AAOSweaRed5ol', 'listing_title': 'Details about  \\xa0', 'listing_price': 'US $99.00', 'condition': 'Used', 'location': 'Jackson, Wyoming, United States', 'source': 'ebay'}\n",
      "{'listing_url': 'https://www.ebay.com/itm/Ortovox-Zoom-Avalanche-Beacon-Transceiver-Ski-Touring-Backcountry/283831094780?hash=item4215a6cdfc:g:kF8AAOSwY~pee5ZM', 'listing_title': 'Details about  \\xa0', 'listing_price': 'US $70.00', 'condition': 'Used', 'location': 'McMinnville, Oregon, United States', 'source': 'ebay'}\n",
      "{'listing_url': 'https://www.ebay.com/itm/170cm-VOLKL-GOTAMA-Backcountry-Powder-Telemark-Skis-w-22-Designs-Hammerhead/333483911904?hash=item4da530aae0:g:CbEAAOSw-rReImIX', 'listing_title': 'Details about  \\xa0', 'listing_price': 'US $369.00', 'condition': 'Used', 'location': 'Aurora, Colorado, United States', 'source': 'ebay'}\n",
      "{'listing_url': 'https://www.ebay.com/itm/K2-Anti-Piste-Telemark-Skis-181-cm-telemarking-backcountry-downhill-FRESH-TUNE/164018281937?hash=item2630405dd1:g:oCcAAOSwtgNeEOas', 'listing_title': 'Details about  \\xa0', 'listing_price': 'US $175.00', 'condition': 'Used', 'location': 'Telluride, Colorado, United States', 'source': 'ebay'}\n",
      "{'listing_url': 'https://www.ebay.com/itm/K2-Wayback-96-Skis-Backcountry-Alpine-Touring-177cm/184209162858?hash=item2ae3b8c26a:g:RUsAAOSwxv1ea66B', 'listing_title': 'Details about  \\xa0', 'listing_price': 'US $419.99', 'condition': 'New', 'location': 'Park City, Utah, United States', 'source': 'ebay'}\n",
      "{'listing_url': 'https://www.ebay.com/itm/Atomic-Peak-Backcountry-Touring-Skis-159cm-Length-Gray-Yellow/313026244357?hash=item48e1d16f05:g:cWYAAOSwYNpeanYW', 'listing_title': 'Details about  \\xa0', 'listing_price': 'US $229.99', 'condition': 'New other (see details)', 'location': 'Salt Lake City, Utah, United States', 'source': 'ebay'}\n",
      "{'listing_url': 'https://www.ebay.com/itm/Volkl-Revolt-121-Powder-Skis-Backcountry-Touring-Setup-177cm-Length-121mm-Waist/164142081553?hash=item2637a16611:g:6tYAAOSwwyFef7n-', 'listing_title': 'Details about  \\xa0', 'listing_price': 'US $800.00', 'condition': 'Used', 'location': 'Snowmass, Colorado, United States', 'source': 'ebay'}\n",
      "{'listing_url': 'https://www.ebay.com/itm/Black-Diamond-Helio-Recon-95-Ski-Alpine-Touring-Backcountry-173cm/184226204022?hash=item2ae4bcc976:g:hkcAAOSwDYNeRGL5', 'listing_title': 'Details about  \\xa0', 'listing_price': 'US $374.99', 'condition': 'New', 'location': 'Park City, Utah, United States', 'source': 'ebay'}\n",
      "{'listing_url': 'https://www.ebay.com/itm/ROSSIGNOL-2020-SOUL-7-HD-180CM-BACKCOUNTRY-A-T-SKIS-W-A-T-TECH-BINDINGS-NEW/362844150752?epid=11037127426&hash=item547b325be0:g:470AAOSwXHRd7dM9', 'listing_title': 'Details about  \\xa0', 'listing_price': 'US $749.00', 'condition': 'New', 'location': 'Seattle, Washington, United States', 'source': 'ebay'}\n",
      "{'listing_url': 'https://www.ebay.com/itm/ROSSIGNOL-2020-SKY-7-HD-180CM-BACKCOUNTRY-A-T-SKIS-W-A-T-TECH-BINDINGS-NEW/153712606626?hash=item23c9fc3da2:g:sQIAAOSwKp1dwhSI', 'listing_title': 'Details about  \\xa0', 'listing_price': 'US $799.00', 'condition': 'New', 'location': 'Seattle, Washington, United States', 'source': 'ebay'}\n",
      "{'listing_url': 'https://www.ebay.com/itm/ELAN-EVEREST-TOUR-SKIS-161-CM-BACK-COUNTRY-SKIS/163540125596?hash=item2613c0479c:g:cg8AAOSwBmJcYzFc', 'listing_title': 'Details about  \\xa0', 'listing_price': 'US $229.95', 'condition': 'New', 'location': 'Columbus, Ohio, United States', 'source': 'ebay'}\n",
      "{'listing_url': 'https://www.ebay.com/itm/ELAN-DENALI-MAGIC-165-TOURING-LADIES-BACK-COUNTRY-TOURING-SKIS-SIZE-165-CM/153375948295?hash=item23b5eb3e07:g:x88AAOSwtxtcYz44', 'listing_title': 'Details about  \\xa0', 'listing_price': 'US $219.95', 'condition': 'New', 'location': 'Columbus, Ohio, United States', 'source': 'ebay'}\n",
      "{'listing_url': 'https://www.ebay.com/itm/Atomic-Backland-78-158cm-Ski-Touring-Backcountry-Skimo-Skis/153758458554?epid=2073228459&hash=item23ccb7e2ba:g:-qsAAOSwEX1d8TeZ', 'listing_title': 'Details about  \\xa0', 'listing_price': 'US $299.99', 'condition': 'New', 'location': 'Boulder, Colorado, United States', 'source': 'ebay'}\n",
      "{'listing_url': 'https://www.ebay.com/itm/2020-Atomic-Backland-78-169cm-Backcountry-Touring-Skis-W-Free-Skins/153738454978?hash=item23cb86a7c2:g:RlcAAOSwe2Zd3BMn', 'listing_title': 'Details about  \\xa0', 'listing_price': 'US $399.99', 'condition': 'New', 'location': 'Boulder, Colorado, United States', 'source': 'ebay'}\n",
      "{'listing_url': 'https://www.ebay.com/itm/NEW-Black-Diamond-Boundary-Pro-107-184cm-Backcountry-Skis/153838846755?hash=item23d1828323:g:LMcAAOSwzhleTcLd', 'listing_title': 'Details about  \\xa0', 'listing_price': 'US $475.00', 'condition': 'New', 'location': 'Prescott, Arizona, United States', 'source': 'ebay'}\n",
      "{'listing_url': 'https://www.ebay.com/itm/Atomic-Backland-78-164cm-Ski-Touring-Backcountry-Skimo-Skis/153758462120?epid=2073230707&hash=item23ccb7f0a8:g:-qsAAOSwEX1d8TeZ', 'listing_title': 'Details about  \\xa0', 'listing_price': 'US $299.99', 'condition': 'New', 'location': 'Boulder, Colorado, United States', 'source': 'ebay'}\n",
      "{'listing_url': 'https://www.ebay.com/itm/2020-Atomic-Backland-85i-Jet-Black-172cm-Backcountry-Touring-Skis/153738570900?hash=item23cb886c94:g:Q7gAAOSwZL5d3C5E', 'listing_title': 'Details about  \\xa0', 'listing_price': 'US $399.99', 'condition': 'New', 'location': 'Boulder, Colorado, United States', 'source': 'ebay'}\n",
      "{'listing_url': 'https://www.ebay.com/itm/New-Fischer-TransAlp-82-Backcountry-Touring-Skis-w-Transalp-Mohair-Skins/362958749617?hash=item548206ffb1:g:FGMAAOSw56JegjA2', 'listing_title': 'Details about  \\xa0', 'listing_price': 'US $349.99', 'condition': 'New', 'location': 'Salt Lake City, Utah, United States', 'source': 'ebay'}\n"
     ]
    },
    {
     "name": "stdout",
     "output_type": "stream",
     "text": [
      "{'listing_url': 'https://www.ebay.com/itm/2020-Atomic-Backland-WMN-78-151cm-Backcountry-Ski-Touring-Skis/153734829203?epid=8035343519&hash=item23cb4f5493:g:EosAAOSwbm9d2B8m', 'listing_title': 'Details about  \\xa0', 'listing_price': 'US $349.99', 'condition': 'New', 'location': 'Boulder, Colorado, United States', 'source': 'ebay'}\n",
      "{'listing_url': 'https://www.ebay.com/itm/Volkl-Gotama-179cm-Skis-w-Dynastar-Legend-Releasable-Backcountry-Bindings/233544007155?hash=item36604ebdf3:g:K70AAOSwOGleU~v4', 'listing_title': 'Details about  \\xa0', 'listing_price': 'US $275.00', 'condition': 'Used', 'location': 'Pawling, New York, United States', 'source': 'ebay'}\n",
      "{'listing_url': 'https://www.ebay.com/itm/ROSSIGNOL-BC-80-Positrack-Backcountry-Touring-Skis-2020-186/323981652385?hash=item4b6ecfb1a1:g:pA4AAOSwooFdzxwT', 'listing_title': 'Details about  \\xa0', 'listing_price': 'US $279.95', 'condition': 'New', 'location': 'Pinedale, Wyoming, United States', 'source': 'ebay'}\n",
      "{'listing_url': 'https://www.ebay.com/itm/Volkl-Amaruq-177-cm-Backcountry-touring-skis-22m-radius/113881591342?hash=item1a83df2e2e:g:dpUAAOSwzZlddU7N', 'listing_title': 'Details about  \\xa0', 'listing_price': 'US $150.00', 'condition': 'Used', 'location': 'Jackson, Wyoming, United States', 'source': 'ebay'}\n",
      "{'listing_url': 'https://www.ebay.com/itm/180cm-METAL-EDGE-BACK-COUNTRY-CROSS-COUNTRY-SKIS-PACKAGE-UNBOX-SKI/293468432420?hash=item445414e824:m:mVG_QGU1WCza0PsnqiDU3dw', 'listing_title': 'Details about  \\xa0', 'listing_price': 'US $219.00', 'condition': 'New', 'location': 'Grafton, Wisconsin, United States', 'source': 'ebay'}\n",
      "{'listing_url': 'https://www.ebay.com/itm/Fischer-Backcountry-XC-Nordic-Ski-Package-Traverse-78-Offtrack-5-BC-Rottefella/324100247641?hash=item4b75e15059:g:5UcAAOSwj7heaUJh', 'listing_title': 'Details about  \\xa0', 'listing_price': 'US $350.00', 'condition': 'New', 'location': 'Saint Paul, Minnesota, United States', 'source': 'ebay'}\n",
      "{'listing_url': 'https://www.ebay.com/itm/Sporten-Free-Walk-Backcountry-Gliding-Skiboards-Ski-Trekkors-with-Skins/323935614938?hash=item4b6c1137da:g:g2UAAOSwihtdlOZK', 'listing_title': 'Details about  \\xa0', 'listing_price': 'US $425.00', 'condition': 'New', 'location': 'Bayfield, Colorado, United States', 'source': 'ebay'}\n",
      "{'listing_url': 'https://www.ebay.com/itm/NEW-Metal-Edge-XC-cross-country-BC-back-country-SKIS-BINDINGS-PACKAGE-197cm/392265014592?hash=item5b54d11d40:m:mC1Vf3f7hGRSabaAj0kZ80Q', 'listing_title': 'Details about  \\xa0', 'listing_price': 'US $199.00', 'condition': 'New', 'location': 'Somers, Connecticut, United States', 'source': 'ebay'}\n",
      "{'listing_url': 'https://www.ebay.com/itm/Salomon-MTN-Explore-88-Backcountry-Alpine-Touring-AT-Ski-New-2020-177cm/264589429372?hash=item3d9ac24a7c:g:5TkAAOSwwUJeEkhr', 'listing_title': 'Details about  \\xa0', 'listing_price': 'US $439.00', 'condition': 'New', 'location': 'Washington, District Of Columbia, United States', 'source': 'ebay'}\n",
      "{'listing_url': 'https://www.ebay.com/itm/Movement-Fly-Two-95-172cm-Skis-Backcountry-and-Park-Freeride-skis/254174978748?hash=item3b2e0262bc:g:O08AAOSwj~Vclqrl', 'listing_title': 'Details about  \\xa0', 'listing_price': 'US $599.95', 'condition': 'New', 'location': 'Salt Lake City, Utah, United States', 'source': 'ebay'}\n",
      "{'listing_url': 'https://www.ebay.com/itm/Salomon-S-LAB-MTN-Backcountry-Ski-Boots-25-5/193366000802?hash=item2d058304a2:g:ApkAAOSwl0xeXPFd', 'listing_title': 'Details about  \\xa0', 'listing_price': 'US $499.00', 'condition': 'New', 'location': 'Corning, New York, United States', 'source': 'ebay'}\n",
      "{'listing_url': 'https://www.ebay.com/itm/BRAND-NEW-2016-Volkl-BMT-109-Backcountry-Touring-skis-176-cm/333560879226?hash=item4da9c7187a:g:WYoAAOSw3BBeWr2W', 'listing_title': 'Details about  \\xa0', 'listing_price': 'US $499.00', 'condition': 'New', 'location': 'Bremerton, Washington, United States', 'source': 'ebay'}\n",
      "{'listing_url': 'https://www.ebay.com/itm/ELAN-DENALI-MAGIC-170-TOURING-LADIES-BACK-COUNTRY-SKIS-SIZE-170-CM/153375961924?hash=item23b5eb7344:g:-7oAAOSwl7pcYzze', 'listing_title': 'Details about  \\xa0', 'listing_price': 'US $219.95', 'condition': 'New', 'location': 'Columbus, Ohio, United States', 'source': 'ebay'}\n",
      "{'listing_url': 'https://www.ebay.com/itm/womens-Black-Diamond-backcountry-Swift-ski-boots-270mm/383484292064?hash=item594971ebe0:g:fSgAAOSwRS1eb9ZN', 'listing_title': 'Details about  \\xa0', 'listing_price': 'US $100.00', 'condition': 'Pre-owned', 'location': 'Salt Lake City, Utah, United States', 'source': 'ebay'}\n",
      "{'listing_url': 'https://www.ebay.com/itm/Hart-Wizard-189-Twin-tip-back-country-touring-all-Mountain-powder-ski/193192523239?hash=item2cfb2bf5e7:g:NeUAAOSwZ~ldti5Y', 'listing_title': 'Details about  \\xa0', 'listing_price': 'US $500.00', 'condition': 'New', 'location': 'Salmon, Idaho, United States', 'source': 'ebay'}\n",
      "{'listing_url': 'https://www.ebay.com/itm/2013-Salomon-Guardian-16-MNC-Frame-ski-Binding-backcountry-Sz-L-115-brake-width/283829226665?hash=item42158a4ca9:g:vgkAAOSwY5pefoIE', 'listing_title': 'Details about  \\xa0', 'listing_price': 'US $99.69', 'condition': 'Used', 'location': 'Fort Collins, Colorado, United States', 'source': 'ebay'}\n",
      "{'listing_url': 'https://www.ebay.com/itm/Brand-New-Salomon-S-Lab-MTN-High-Performance-Backcountry-Ski-Boot-Size-26-5/353027891092?hash=item52321a1f94:g:VN8AAOSwEDBdiZ22', 'listing_title': 'Details about  \\xa0', 'listing_price': 'US $450.00', 'condition': 'New', 'location': 'Hanover, New Hampshire, United States', 'source': 'ebay'}\n",
      "{'listing_url': 'https://www.ebay.com/itm/2020-Rossignol-BC-100-Positrack-Backcountry-XC-Touring-Skis-RHIWC16/193368881234?hash=item2d05aef852:m:mjXzlqIQ_1z7F58pWLBWQVw', 'listing_title': 'Details about  \\xa0', 'listing_price': 'US $329.95', 'condition': 'New', 'location': 'Stowe, Vermont, United States', 'source': 'ebay'}\n",
      "{'listing_url': 'https://www.ebay.com/itm/NEW-TITAN-metal-BC-BACK-COUNTRY-XC-SKIS-BINDINGS-POLES-PACKAGE-160cm/202630513424?hash=item2f2db84310:m:mwVtdZ31gJlZb-dCgqEGK8g', 'listing_title': 'Details about  \\xa0', 'listing_price': 'US $219.00', 'condition': 'New', 'location': 'Somers, Connecticut, United States', 'source': 'ebay'}\n",
      "{'listing_url': 'https://www.ebay.com/itm/New-DPS-Alchemist-Wailer-112-Carbon-All-Mountain-Backcountry-Inbounds-Ski-184cm/114089213301?hash=item1a903f3d75:g:ZjMAAOSwaoBdn~Xx', 'listing_title': 'Details about  \\xa0', 'listing_price': 'US $999.99', 'condition': 'New', 'location': 'Denver, Colorado, United States', 'source': 'ebay'}\n",
      "{'listing_url': 'https://www.ebay.com/itm/Black-Diamond-Aspect-Powder-Backcountry-Touring-AT-Skis-186cm-132-90-119/274318099878?hash=item3fdea205a6:g:aecAAOSwWapee80P', 'listing_title': 'Details about  \\xa0', 'listing_price': 'US $159.00', 'condition': 'Used', 'location': 'Huntington Beach, California, United States', 'source': 'ebay'}\n",
      "{'listing_url': 'https://www.ebay.com/itm/Atomic-Drifter-backcountry-skis-164cm-95mm/303518378688?hash=item46ab1aeac0:g:2BoAAOSwngBecuXL', 'listing_title': 'Details about  \\xa0', 'listing_price': 'US $180.00', 'condition': 'Used', 'location': 'Castro Valley, California, United States', 'source': 'ebay'}\n",
      "{'listing_url': 'https://www.ebay.com/itm/K2-Gotback-Backcountry-Womens-Skis-160cm/283828347569?hash=item42157ce2b1:g:PF8AAOSwFIpefVUV', 'listing_title': 'Details about  \\xa0', 'listing_price': 'US $200.00', 'condition': 'Used', 'location': 'Sandy, Utah, United States', 'source': 'ebay'}\n"
     ]
    },
    {
     "ename": "KeyboardInterrupt",
     "evalue": "",
     "output_type": "error",
     "traceback": [
      "\u001b[0;31m---------------------------------------------------------------------------\u001b[0m",
      "\u001b[0;31mKeyboardInterrupt\u001b[0m                         Traceback (most recent call last)",
      "\u001b[0;32m<ipython-input-39-4c28baba191b>\u001b[0m in \u001b[0;36m<module>\u001b[0;34m\u001b[0m\n\u001b[1;32m      3\u001b[0m     \u001b[0mbrowser\u001b[0m\u001b[0;34m.\u001b[0m\u001b[0mvisit\u001b[0m\u001b[0;34m(\u001b[0m\u001b[0murl\u001b[0m\u001b[0;34m)\u001b[0m\u001b[0;34m\u001b[0m\u001b[0;34m\u001b[0m\u001b[0m\n\u001b[1;32m      4\u001b[0m     \u001b[0mhtml\u001b[0m \u001b[0;34m=\u001b[0m \u001b[0mbrowser\u001b[0m\u001b[0;34m.\u001b[0m\u001b[0mhtml\u001b[0m\u001b[0;34m\u001b[0m\u001b[0;34m\u001b[0m\u001b[0m\n\u001b[0;32m----> 5\u001b[0;31m     \u001b[0msoup\u001b[0m \u001b[0;34m=\u001b[0m \u001b[0mbs\u001b[0m\u001b[0;34m(\u001b[0m\u001b[0mhtml\u001b[0m\u001b[0;34m,\u001b[0m\u001b[0;34m'lxml'\u001b[0m\u001b[0;34m)\u001b[0m\u001b[0;34m\u001b[0m\u001b[0;34m\u001b[0m\u001b[0m\n\u001b[0m\u001b[1;32m      6\u001b[0m \u001b[0;34m\u001b[0m\u001b[0m\n\u001b[1;32m      7\u001b[0m     \u001b[0murl\u001b[0m \u001b[0;34m=\u001b[0m \u001b[0murl\u001b[0m\u001b[0;34m\u001b[0m\u001b[0;34m\u001b[0m\u001b[0m\n",
      "\u001b[0;32m~/anaconda3/lib/python3.7/site-packages/bs4/__init__.py\u001b[0m in \u001b[0;36m__init__\u001b[0;34m(self, markup, features, builder, parse_only, from_encoding, exclude_encodings, element_classes, **kwargs)\u001b[0m\n\u001b[1;32m    323\u001b[0m             \u001b[0mself\u001b[0m\u001b[0;34m.\u001b[0m\u001b[0mreset\u001b[0m\u001b[0;34m(\u001b[0m\u001b[0;34m)\u001b[0m\u001b[0;34m\u001b[0m\u001b[0;34m\u001b[0m\u001b[0m\n\u001b[1;32m    324\u001b[0m             \u001b[0;32mtry\u001b[0m\u001b[0;34m:\u001b[0m\u001b[0;34m\u001b[0m\u001b[0;34m\u001b[0m\u001b[0m\n\u001b[0;32m--> 325\u001b[0;31m                 \u001b[0mself\u001b[0m\u001b[0;34m.\u001b[0m\u001b[0m_feed\u001b[0m\u001b[0;34m(\u001b[0m\u001b[0;34m)\u001b[0m\u001b[0;34m\u001b[0m\u001b[0;34m\u001b[0m\u001b[0m\n\u001b[0m\u001b[1;32m    326\u001b[0m                 \u001b[0msuccess\u001b[0m \u001b[0;34m=\u001b[0m \u001b[0;32mTrue\u001b[0m\u001b[0;34m\u001b[0m\u001b[0;34m\u001b[0m\u001b[0m\n\u001b[1;32m    327\u001b[0m                 \u001b[0;32mbreak\u001b[0m\u001b[0;34m\u001b[0m\u001b[0;34m\u001b[0m\u001b[0m\n",
      "\u001b[0;32m~/anaconda3/lib/python3.7/site-packages/bs4/__init__.py\u001b[0m in \u001b[0;36m_feed\u001b[0;34m(self)\u001b[0m\n\u001b[1;32m    397\u001b[0m         \u001b[0mself\u001b[0m\u001b[0;34m.\u001b[0m\u001b[0mbuilder\u001b[0m\u001b[0;34m.\u001b[0m\u001b[0mreset\u001b[0m\u001b[0;34m(\u001b[0m\u001b[0;34m)\u001b[0m\u001b[0;34m\u001b[0m\u001b[0;34m\u001b[0m\u001b[0m\n\u001b[1;32m    398\u001b[0m \u001b[0;34m\u001b[0m\u001b[0m\n\u001b[0;32m--> 399\u001b[0;31m         \u001b[0mself\u001b[0m\u001b[0;34m.\u001b[0m\u001b[0mbuilder\u001b[0m\u001b[0;34m.\u001b[0m\u001b[0mfeed\u001b[0m\u001b[0;34m(\u001b[0m\u001b[0mself\u001b[0m\u001b[0;34m.\u001b[0m\u001b[0mmarkup\u001b[0m\u001b[0;34m)\u001b[0m\u001b[0;34m\u001b[0m\u001b[0;34m\u001b[0m\u001b[0m\n\u001b[0m\u001b[1;32m    400\u001b[0m         \u001b[0;31m# Close out any unfinished strings and close all the open tags.\u001b[0m\u001b[0;34m\u001b[0m\u001b[0;34m\u001b[0m\u001b[0;34m\u001b[0m\u001b[0m\n\u001b[1;32m    401\u001b[0m         \u001b[0mself\u001b[0m\u001b[0;34m.\u001b[0m\u001b[0mendData\u001b[0m\u001b[0;34m(\u001b[0m\u001b[0;34m)\u001b[0m\u001b[0;34m\u001b[0m\u001b[0;34m\u001b[0m\u001b[0m\n",
      "\u001b[0;32m~/anaconda3/lib/python3.7/site-packages/bs4/builder/_lxml.py\u001b[0m in \u001b[0;36mfeed\u001b[0;34m(self, markup)\u001b[0m\n\u001b[1;32m    322\u001b[0m         \u001b[0;32mtry\u001b[0m\u001b[0;34m:\u001b[0m\u001b[0;34m\u001b[0m\u001b[0;34m\u001b[0m\u001b[0m\n\u001b[1;32m    323\u001b[0m             \u001b[0mself\u001b[0m\u001b[0;34m.\u001b[0m\u001b[0mparser\u001b[0m \u001b[0;34m=\u001b[0m \u001b[0mself\u001b[0m\u001b[0;34m.\u001b[0m\u001b[0mparser_for\u001b[0m\u001b[0;34m(\u001b[0m\u001b[0mencoding\u001b[0m\u001b[0;34m)\u001b[0m\u001b[0;34m\u001b[0m\u001b[0;34m\u001b[0m\u001b[0m\n\u001b[0;32m--> 324\u001b[0;31m             \u001b[0mself\u001b[0m\u001b[0;34m.\u001b[0m\u001b[0mparser\u001b[0m\u001b[0;34m.\u001b[0m\u001b[0mfeed\u001b[0m\u001b[0;34m(\u001b[0m\u001b[0mmarkup\u001b[0m\u001b[0;34m)\u001b[0m\u001b[0;34m\u001b[0m\u001b[0;34m\u001b[0m\u001b[0m\n\u001b[0m\u001b[1;32m    325\u001b[0m             \u001b[0mself\u001b[0m\u001b[0;34m.\u001b[0m\u001b[0mparser\u001b[0m\u001b[0;34m.\u001b[0m\u001b[0mclose\u001b[0m\u001b[0;34m(\u001b[0m\u001b[0;34m)\u001b[0m\u001b[0;34m\u001b[0m\u001b[0;34m\u001b[0m\u001b[0m\n\u001b[1;32m    326\u001b[0m         \u001b[0;32mexcept\u001b[0m \u001b[0;34m(\u001b[0m\u001b[0mUnicodeDecodeError\u001b[0m\u001b[0;34m,\u001b[0m \u001b[0mLookupError\u001b[0m\u001b[0;34m,\u001b[0m \u001b[0metree\u001b[0m\u001b[0;34m.\u001b[0m\u001b[0mParserError\u001b[0m\u001b[0;34m)\u001b[0m \u001b[0;32mas\u001b[0m \u001b[0me\u001b[0m\u001b[0;34m:\u001b[0m\u001b[0;34m\u001b[0m\u001b[0;34m\u001b[0m\u001b[0m\n",
      "\u001b[0;32msrc/lxml/parser.pxi\u001b[0m in \u001b[0;36mlxml.etree._FeedParser.feed\u001b[0;34m()\u001b[0m\n",
      "\u001b[0;32msrc/lxml/parser.pxi\u001b[0m in \u001b[0;36mlxml.etree._FeedParser.feed\u001b[0;34m()\u001b[0m\n",
      "\u001b[0;32msrc/lxml/parsertarget.pxi\u001b[0m in \u001b[0;36mlxml.etree._TargetParserContext._handleParseResult\u001b[0;34m()\u001b[0m\n",
      "\u001b[0;32msrc/lxml/parsertarget.pxi\u001b[0m in \u001b[0;36mlxml.etree._TargetParserContext._handleParseResult\u001b[0;34m()\u001b[0m\n",
      "\u001b[0;32msrc/lxml/etree.pyx\u001b[0m in \u001b[0;36mlxml.etree._ExceptionContext._raise_if_stored\u001b[0;34m()\u001b[0m\n",
      "\u001b[0;32msrc/lxml/saxparser.pxi\u001b[0m in \u001b[0;36mlxml.etree._handleSaxTargetStartNoNs\u001b[0;34m()\u001b[0m\n",
      "\u001b[0;32msrc/lxml/saxparser.pxi\u001b[0m in \u001b[0;36mlxml.etree._callTargetSaxStart\u001b[0;34m()\u001b[0m\n",
      "\u001b[0;32msrc/lxml/parsertarget.pxi\u001b[0m in \u001b[0;36mlxml.etree._PythonSaxParserTarget._handleSaxStart\u001b[0;34m()\u001b[0m\n",
      "\u001b[0;32m~/anaconda3/lib/python3.7/site-packages/bs4/builder/_lxml.py\u001b[0m in \u001b[0;36mstart\u001b[0;34m(self, name, attrs, nsmap)\u001b[0m\n\u001b[1;32m    255\u001b[0m         \u001b[0mnamespace\u001b[0m\u001b[0;34m,\u001b[0m \u001b[0mname\u001b[0m \u001b[0;34m=\u001b[0m \u001b[0mself\u001b[0m\u001b[0;34m.\u001b[0m\u001b[0m_getNsTag\u001b[0m\u001b[0;34m(\u001b[0m\u001b[0mname\u001b[0m\u001b[0;34m)\u001b[0m\u001b[0;34m\u001b[0m\u001b[0;34m\u001b[0m\u001b[0m\n\u001b[1;32m    256\u001b[0m         \u001b[0mnsprefix\u001b[0m \u001b[0;34m=\u001b[0m \u001b[0mself\u001b[0m\u001b[0;34m.\u001b[0m\u001b[0m_prefix_for_namespace\u001b[0m\u001b[0;34m(\u001b[0m\u001b[0mnamespace\u001b[0m\u001b[0;34m)\u001b[0m\u001b[0;34m\u001b[0m\u001b[0;34m\u001b[0m\u001b[0m\n\u001b[0;32m--> 257\u001b[0;31m         \u001b[0mself\u001b[0m\u001b[0;34m.\u001b[0m\u001b[0msoup\u001b[0m\u001b[0;34m.\u001b[0m\u001b[0mhandle_starttag\u001b[0m\u001b[0;34m(\u001b[0m\u001b[0mname\u001b[0m\u001b[0;34m,\u001b[0m \u001b[0mnamespace\u001b[0m\u001b[0;34m,\u001b[0m \u001b[0mnsprefix\u001b[0m\u001b[0;34m,\u001b[0m \u001b[0mattrs\u001b[0m\u001b[0;34m)\u001b[0m\u001b[0;34m\u001b[0m\u001b[0;34m\u001b[0m\u001b[0m\n\u001b[0m\u001b[1;32m    258\u001b[0m \u001b[0;34m\u001b[0m\u001b[0m\n\u001b[1;32m    259\u001b[0m     \u001b[0;32mdef\u001b[0m \u001b[0m_prefix_for_namespace\u001b[0m\u001b[0;34m(\u001b[0m\u001b[0mself\u001b[0m\u001b[0;34m,\u001b[0m \u001b[0mnamespace\u001b[0m\u001b[0;34m)\u001b[0m\u001b[0;34m:\u001b[0m\u001b[0;34m\u001b[0m\u001b[0;34m\u001b[0m\u001b[0m\n",
      "\u001b[0;32m~/anaconda3/lib/python3.7/site-packages/bs4/__init__.py\u001b[0m in \u001b[0;36mhandle_starttag\u001b[0;34m(self, name, namespace, nsprefix, attrs, sourceline, sourcepos)\u001b[0m\n\u001b[1;32m    632\u001b[0m             \u001b[0mself\u001b[0m\u001b[0;34m,\u001b[0m \u001b[0mself\u001b[0m\u001b[0;34m.\u001b[0m\u001b[0mbuilder\u001b[0m\u001b[0;34m,\u001b[0m \u001b[0mname\u001b[0m\u001b[0;34m,\u001b[0m \u001b[0mnamespace\u001b[0m\u001b[0;34m,\u001b[0m \u001b[0mnsprefix\u001b[0m\u001b[0;34m,\u001b[0m \u001b[0mattrs\u001b[0m\u001b[0;34m,\u001b[0m\u001b[0;34m\u001b[0m\u001b[0;34m\u001b[0m\u001b[0m\n\u001b[1;32m    633\u001b[0m             \u001b[0mself\u001b[0m\u001b[0;34m.\u001b[0m\u001b[0mcurrentTag\u001b[0m\u001b[0;34m,\u001b[0m \u001b[0mself\u001b[0m\u001b[0;34m.\u001b[0m\u001b[0m_most_recent_element\u001b[0m\u001b[0;34m,\u001b[0m\u001b[0;34m\u001b[0m\u001b[0;34m\u001b[0m\u001b[0m\n\u001b[0;32m--> 634\u001b[0;31m             \u001b[0msourceline\u001b[0m\u001b[0;34m=\u001b[0m\u001b[0msourceline\u001b[0m\u001b[0;34m,\u001b[0m \u001b[0msourcepos\u001b[0m\u001b[0;34m=\u001b[0m\u001b[0msourcepos\u001b[0m\u001b[0;34m\u001b[0m\u001b[0;34m\u001b[0m\u001b[0m\n\u001b[0m\u001b[1;32m    635\u001b[0m         )\n\u001b[1;32m    636\u001b[0m         \u001b[0;32mif\u001b[0m \u001b[0mtag\u001b[0m \u001b[0;32mis\u001b[0m \u001b[0;32mNone\u001b[0m\u001b[0;34m:\u001b[0m\u001b[0;34m\u001b[0m\u001b[0;34m\u001b[0m\u001b[0m\n",
      "\u001b[0;32m~/anaconda3/lib/python3.7/site-packages/bs4/element.py\u001b[0m in \u001b[0;36m__init__\u001b[0;34m(self, parser, builder, name, namespace, prefix, attrs, parent, previous, is_xml, sourceline, sourcepos, can_be_empty_element, cdata_list_attributes, preserve_whitespace_tags)\u001b[0m\n\u001b[1;32m   1038\u001b[0m             \u001b[0;32mif\u001b[0m \u001b[0mbuilder\u001b[0m \u001b[0;32mis\u001b[0m \u001b[0;32mnot\u001b[0m \u001b[0;32mNone\u001b[0m \u001b[0;32mand\u001b[0m \u001b[0mbuilder\u001b[0m\u001b[0;34m.\u001b[0m\u001b[0mcdata_list_attributes\u001b[0m\u001b[0;34m:\u001b[0m\u001b[0;34m\u001b[0m\u001b[0;34m\u001b[0m\u001b[0m\n\u001b[1;32m   1039\u001b[0m                 attrs = builder._replace_cdata_list_attribute_values(\n\u001b[0;32m-> 1040\u001b[0;31m                     self.name, attrs)\n\u001b[0m\u001b[1;32m   1041\u001b[0m             \u001b[0;32melse\u001b[0m\u001b[0;34m:\u001b[0m\u001b[0;34m\u001b[0m\u001b[0;34m\u001b[0m\u001b[0m\n\u001b[1;32m   1042\u001b[0m                 \u001b[0mattrs\u001b[0m \u001b[0;34m=\u001b[0m \u001b[0mdict\u001b[0m\u001b[0;34m(\u001b[0m\u001b[0mattrs\u001b[0m\u001b[0;34m)\u001b[0m\u001b[0;34m\u001b[0m\u001b[0;34m\u001b[0m\u001b[0m\n",
      "\u001b[0;32m~/anaconda3/lib/python3.7/site-packages/bs4/builder/__init__.py\u001b[0m in \u001b[0;36m_replace_cdata_list_attribute_values\u001b[0;34m(self, tag_name, attrs)\u001b[0m\n\u001b[1;32m    282\u001b[0m             tag_specific = self.cdata_list_attributes.get(\n\u001b[1;32m    283\u001b[0m                 tag_name.lower(), None)\n\u001b[0;32m--> 284\u001b[0;31m             \u001b[0;32mfor\u001b[0m \u001b[0mattr\u001b[0m \u001b[0;32min\u001b[0m \u001b[0mlist\u001b[0m\u001b[0;34m(\u001b[0m\u001b[0mattrs\u001b[0m\u001b[0;34m.\u001b[0m\u001b[0mkeys\u001b[0m\u001b[0;34m(\u001b[0m\u001b[0;34m)\u001b[0m\u001b[0;34m)\u001b[0m\u001b[0;34m:\u001b[0m\u001b[0;34m\u001b[0m\u001b[0;34m\u001b[0m\u001b[0m\n\u001b[0m\u001b[1;32m    285\u001b[0m                 \u001b[0;32mif\u001b[0m \u001b[0mattr\u001b[0m \u001b[0;32min\u001b[0m \u001b[0muniversal\u001b[0m \u001b[0;32mor\u001b[0m \u001b[0;34m(\u001b[0m\u001b[0mtag_specific\u001b[0m \u001b[0;32mand\u001b[0m \u001b[0mattr\u001b[0m \u001b[0;32min\u001b[0m \u001b[0mtag_specific\u001b[0m\u001b[0;34m)\u001b[0m\u001b[0;34m:\u001b[0m\u001b[0;34m\u001b[0m\u001b[0;34m\u001b[0m\u001b[0m\n\u001b[1;32m    286\u001b[0m                     \u001b[0;31m# We have a \"class\"-type attribute whose string\u001b[0m\u001b[0;34m\u001b[0m\u001b[0;34m\u001b[0m\u001b[0;34m\u001b[0m\u001b[0m\n",
      "\u001b[0;31mKeyboardInterrupt\u001b[0m: "
     ]
    }
   ],
   "source": [
    "listings = []\n",
    "source = 'ebay'\n",
    "scrape_date = datetime.datetime.now().strftime(\"%Y-%m-%d %H:%M:%S\")\n",
    "for url in url_list:\n",
    "    browser.visit(url)\n",
    "    html = browser.html\n",
    "    soup = bs(html,'lxml')\n",
    "    \n",
    "    url = url\n",
    "    title = soup.find('h1',{'id':'itemTitle'}).find('span').text.lower()\n",
    "    price = soup.find('span',{'itemprop':'price'}).text\n",
    "    location = soup.find('span',{'itemprop':'availableAtOrFrom'}).text\n",
    "    listing_dict = {\n",
    "        'url': url,\n",
    "        'title': title,\n",
    "        'price': price,\n",
    "        'location': location,\n",
    "        'source': source\n",
    "        'scrape_date':scrape_date\n",
    "    }\n",
    "    listings.append(listing_dict)\n",
    "    print(listing_dict)"
   ]
  },
  {
   "cell_type": "code",
   "execution_count": null,
   "metadata": {},
   "outputs": [],
   "source": []
  }
 ],
 "metadata": {
  "kernelspec": {
   "display_name": "Python 3",
   "language": "python",
   "name": "python3"
  },
  "language_info": {
   "codemirror_mode": {
    "name": "ipython",
    "version": 3
   },
   "file_extension": ".py",
   "mimetype": "text/x-python",
   "name": "python",
   "nbconvert_exporter": "python",
   "pygments_lexer": "ipython3",
   "version": "3.7.3"
  }
 },
 "nbformat": 4,
 "nbformat_minor": 4
}
