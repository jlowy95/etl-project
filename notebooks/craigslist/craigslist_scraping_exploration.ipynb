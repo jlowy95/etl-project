{
 "cells": [
  {
   "cell_type": "code",
   "execution_count": 12,
   "metadata": {},
   "outputs": [],
   "source": [
    "from splinter import Browser\n",
    "from splinter.exceptions import ElementDoesNotExist\n",
    "from bs4 import BeautifulSoup\n",
    "import datetime as dt"
   ]
  },
  {
   "cell_type": "code",
   "execution_count": 2,
   "metadata": {},
   "outputs": [
    {
     "name": "stdout",
     "output_type": "stream",
     "text": [
      "/usr/local/bin/chromedriver\r\n"
     ]
    }
   ],
   "source": [
    "# https://splinter.readthedocs.io/en/latest/drivers/chrome.html\n",
    "!which chromedriver"
   ]
  },
  {
   "cell_type": "code",
   "execution_count": 3,
   "metadata": {},
   "outputs": [],
   "source": [
    "executable_path = {'executable_path': '/usr/local/bin/chromedriver'}\n",
    "browser = Browser('chrome', **executable_path, headless=True)"
   ]
  },
  {
   "cell_type": "code",
   "execution_count": 13,
   "metadata": {},
   "outputs": [],
   "source": [
    "# Example URL: https://sacramento.craigslist.org/search/sss?query=backcountry%20skis&sort=rel\n",
    "location = \"sacramento\"\n",
    "search_term = \"skis\"\n",
    "bundle_duplicates = 1\n",
    "\n",
    "url = f\"http://www.craigslist.org/search/sss?query={search_term}&sort=rel\"\n",
    "browser.visit(url)"
   ]
  },
  {
   "cell_type": "markdown",
   "metadata": {},
   "source": [
    "# Get a list of links for the first page"
   ]
  },
  {
   "cell_type": "code",
   "execution_count": 14,
   "metadata": {},
   "outputs": [],
   "source": [
    "html = browser.html\n",
    "soup = BeautifulSoup(html, 'html.parser')\n",
    "results = soup.find_all('li', class_=\"result-row\")\n",
    "\n",
    "item_list = []\n",
    "\n",
    "for result in results:\n",
    "    \n",
    "    # Grab the link, title, and price\n",
    "    link = result.a['href']\n",
    "    title = result.find('a', class_=\"result-title\").text\n",
    "    price = result.find('span', class_=\"result-price\").text\n",
    "    datetime = result.find('time', class_=\"result-date\")['datetime']\n",
    "    \n",
    "    # Create a dictionary for the item\n",
    "    item_dict = {\n",
    "        link: {\n",
    "            \"title\": title,\n",
    "            \"price\": price,\n",
    "            \"datetime\": datetime\n",
    "        }\n",
    "    }\n",
    "    \n",
    "    item_list.append(item_dict)"
   ]
  },
  {
   "cell_type": "code",
   "execution_count": 15,
   "metadata": {},
   "outputs": [
    {
     "data": {
      "text/plain": [
       "'2020-04-01 19:00'"
      ]
     },
     "execution_count": 15,
     "metadata": {},
     "output_type": "execute_result"
    }
   ],
   "source": [
    "results[0].find('time', class_=\"result-date\")['datetime']"
   ]
  },
  {
   "cell_type": "code",
   "execution_count": 16,
   "metadata": {},
   "outputs": [
    {
     "data": {
      "text/plain": [
       "[{'https://sfbay.craigslist.org/sby/spo/d/santa-clara-fischer-downhill-skis/7100302344.html': {'title': 'Fischer Downhill Skis Blanks - New - Install Bindings',\n",
       "   'price': '$30',\n",
       "   'datetime': '2020-04-01 19:00'}},\n",
       " {'https://sfbay.craigslist.org/eby/spo/d/oakland-black-diamond-megawatts-powder/7090189647.html': {'title': 'black diamond megawatts powder ski skis',\n",
       "   'price': '$275',\n",
       "   'datetime': '2020-04-01 18:50'}},\n",
       " {'https://sfbay.craigslist.org/eby/spo/d/oakland-black-diamond-megawatts-powder/7090190245.html': {'title': 'black diamond megawatts powder ski skis',\n",
       "   'price': '$275',\n",
       "   'datetime': '2020-04-01 18:50'}},\n",
       " {'https://sfbay.craigslist.org/sby/spo/d/san-jose-k2-racer-snow-skis/7090829063.html': {'title': 'K2 Racer Snow Skis',\n",
       "   'price': '$80',\n",
       "   'datetime': '2020-04-01 18:38'}},\n",
       " {'https://sfbay.craigslist.org/eby/spo/d/hayward-womans-and-mens-snow-skis-for/7102240257.html': {'title': 'Woman’s and men’s snow skis for sale',\n",
       "   'price': '$80',\n",
       "   'datetime': '2020-04-01 17:50'}}]"
      ]
     },
     "execution_count": 16,
     "metadata": {},
     "output_type": "execute_result"
    }
   ],
   "source": [
    "item_list[:5]"
   ]
  },
  {
   "cell_type": "code",
   "execution_count": 8,
   "metadata": {},
   "outputs": [
    {
     "data": {
      "text/plain": [
       "120"
      ]
     },
     "execution_count": 8,
     "metadata": {},
     "output_type": "execute_result"
    }
   ],
   "source": [
    "len(item_list)"
   ]
  },
  {
   "cell_type": "markdown",
   "metadata": {},
   "source": [
    "# Get links for all results by clicking through all pages"
   ]
  },
  {
   "cell_type": "code",
   "execution_count": 22,
   "metadata": {},
   "outputs": [
    {
     "name": "stdout",
     "output_type": "stream",
     "text": [
      "All results scraped\n"
     ]
    }
   ],
   "source": [
    "item_list = []\n",
    "\n",
    "while True:\n",
    "    html = browser.html\n",
    "    soup = BeautifulSoup(html, 'html.parser')\n",
    "    results = soup.find_all('li', class_=\"result-row\")\n",
    "    \n",
    "    for result in results:\n",
    "    \n",
    "        # Grab the link, title, and price\n",
    "        link = result.a['href']\n",
    "        title = result.find('a', class_=\"result-title\").text\n",
    "        price = result.find('span', class_=\"result-price\").text\n",
    "        datetime = result.find('time', class_=\"result-date\")['datetime']\n",
    "\n",
    "        # Create a dictionary for the item\n",
    "        item_dict = {\n",
    "            \"url\": link,\n",
    "            \"title\": title,\n",
    "            \"price\": price,\n",
    "            \"datetime\": datetime,\n",
    "            \"scrape_date\": dt.datetime.now().strftime('%Y:%m:%d %H:%M:%S'),\n",
    "            \"location\": link.split('.')[0].split('//')[1]\n",
    "        }\n",
    "\n",
    "        item_list.append(item_dict)\n",
    "    \n",
    "    # Try the next page\n",
    "    try:\n",
    "        browser.click_link_by_partial_text('next')\n",
    "    except:\n",
    "        break"
   ]
  },
  {
   "cell_type": "code",
   "execution_count": 24,
   "metadata": {},
   "outputs": [
    {
     "data": {
      "text/plain": [
       "{'url': 'https://sfbay.craigslist.org/sby/spo/d/campbell-monza-slalom-ski-price-drop/7098735051.html',\n",
       " 'title': 'Monza slalom ski price drop again!!!',\n",
       " 'price': '$100',\n",
       " 'datetime': '2020-03-25 10:04',\n",
       " 'scrape_date': '2020:04:01 19:46:03',\n",
       " 'location': 'sfbay'}"
      ]
     },
     "execution_count": 24,
     "metadata": {},
     "output_type": "execute_result"
    }
   ],
   "source": [
    "item_list[0]"
   ]
  },
  {
   "cell_type": "markdown",
   "metadata": {},
   "source": [
    "# Scrape data for one product link"
   ]
  },
  {
   "cell_type": "code",
   "execution_count": 22,
   "metadata": {},
   "outputs": [],
   "source": [
    "link = list(item_list[0].keys())[0]\n",
    "\n",
    "browser.visit(link)"
   ]
  },
  {
   "cell_type": "code",
   "execution_count": 23,
   "metadata": {},
   "outputs": [],
   "source": [
    "html = browser.html\n",
    "soup = BeautifulSoup(html, 'html.parser')"
   ]
  },
  {
   "cell_type": "code",
   "execution_count": 25,
   "metadata": {},
   "outputs": [
    {
     "data": {
      "text/plain": [
       "[]"
      ]
     },
     "execution_count": 25,
     "metadata": {},
     "output_type": "execute_result"
    }
   ],
   "source": [
    "soup.find_all('section', id_=\"postingbody\")"
   ]
  },
  {
   "cell_type": "code",
   "execution_count": null,
   "metadata": {},
   "outputs": [],
   "source": []
  }
 ],
 "metadata": {
  "kernelspec": {
   "display_name": "Python 3",
   "language": "python",
   "name": "python3"
  },
  "language_info": {
   "codemirror_mode": {
    "name": "ipython",
    "version": 3
   },
   "file_extension": ".py",
   "mimetype": "text/x-python",
   "name": "python",
   "nbconvert_exporter": "python",
   "pygments_lexer": "ipython3",
   "version": "3.7.4"
  }
 },
 "nbformat": 4,
 "nbformat_minor": 2
}
